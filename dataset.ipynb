{
 "cells": [
  {
   "cell_type": "markdown",
   "id": "e95a7518-5070-4160-8802-e22805fe1f03",
   "metadata": {},
   "source": [
    "# Introduction du Dataset Ooredoo\n",
    "---------------------\n",
    "\n",
    "Ce jeu de données regroupe des informations relatives aux retours clients collectés par l’opérateur Ooredoo. \n",
    "Chaque ligne représente un retour individuel incluant des données sociodémographiques du client, ses interactions avec le service, ainsi que des éléments d’analyse textuelle et comportementale. \n",
    "L’objectif principal de ce dataset est d’identifier les sentiments des clients, évaluer leur satisfaction et anticiper les risques de churn (désabonnement), dans le but d’optimiser la fidélisation et l’expérience utilisateur."
   ]
  },
  {
   "cell_type": "markdown",
   "id": "b3b075ed-1ad2-4f48-9839-43499c479a20",
   "metadata": {},
   "source": [
    "* Numéro Client : Identifiant unique du client\n",
    "\n",
    "* Âge, Genre, Langue : Informations démographiques\n",
    "\n",
    "* Date de retour : Date du feedback client\n",
    "\n",
    "* Avis Client, Note : Texte libre + score de satisfaction\n",
    "\n",
    "* Type de problème : Catégorie du problème évoqué\n",
    "\n",
    "* Localisation : Ville du client\n",
    "\n",
    "* Score de sentiment, Émotion détectée : Analyse NLP de l’avis\n",
    "\n",
    "* Probabilité de churn : Score prédictif de désabonnement\n",
    "\n",
    "* Résumé de l’avis : Synthèse automatisée de l’avis\n",
    "\n",
    "* Connection Type, Customer Type, Customer Tenure, Tarif, Segment Client : Données contractuelles"
   ]
  },
  {
   "cell_type": "code",
   "execution_count": 3,
   "id": "d6188aff-be5d-4ce9-a5d3-8d65ad270d5b",
   "metadata": {},
   "outputs": [],
   "source": [
    "#  1. Importer les bibliothèques nécessaires\n",
    "import pandas as pd\n",
    "import numpy as np"
   ]
  },
  {
   "cell_type": "code",
   "execution_count": 4,
   "id": "e14cb3b2-08e8-4855-9263-c2d5f8f0b481",
   "metadata": {},
   "outputs": [],
   "source": [
    "# 2. Charger les données\n",
    "df = pd.read_excel('Base_Finale_1000_Avis.xlsx')"
   ]
  },
  {
   "cell_type": "code",
   "execution_count": 5,
   "id": "da52e23e-68cc-45c3-bdff-9ae8cf2c932a",
   "metadata": {},
   "outputs": [
    {
     "data": {
      "text/html": [
       "<div>\n",
       "<style scoped>\n",
       "    .dataframe tbody tr th:only-of-type {\n",
       "        vertical-align: middle;\n",
       "    }\n",
       "\n",
       "    .dataframe tbody tr th {\n",
       "        vertical-align: top;\n",
       "    }\n",
       "\n",
       "    .dataframe thead th {\n",
       "        text-align: right;\n",
       "    }\n",
       "</style>\n",
       "<table border=\"1\" class=\"dataframe\">\n",
       "  <thead>\n",
       "    <tr style=\"text-align: right;\">\n",
       "      <th></th>\n",
       "      <th>Numéro Client</th>\n",
       "      <th>Age</th>\n",
       "      <th>Genre</th>\n",
       "      <th>Date de retour</th>\n",
       "      <th>Langue</th>\n",
       "      <th>Avis Client</th>\n",
       "      <th>Note</th>\n",
       "      <th>Type de problème</th>\n",
       "      <th>Localisation</th>\n",
       "      <th>Score de sentiment</th>\n",
       "      <th>Émotion détectée</th>\n",
       "      <th>Probabilité de churn</th>\n",
       "      <th>Résumé de l’avis</th>\n",
       "      <th>Connection Type</th>\n",
       "      <th>Customer Type</th>\n",
       "      <th>Customer Tenure</th>\n",
       "      <th>Tarif nom (Forfait)</th>\n",
       "      <th>Segment Client</th>\n",
       "      <th>Unnamed: 18</th>\n",
       "      <th>Unnamed: 19</th>\n",
       "    </tr>\n",
       "  </thead>\n",
       "  <tbody>\n",
       "    <tr>\n",
       "      <th>0</th>\n",
       "      <td>24737244.0</td>\n",
       "      <td>18-25</td>\n",
       "      <td>Homme</td>\n",
       "      <td>2025-01-10</td>\n",
       "      <td>Anglais</td>\n",
       "      <td>Excellent 5G coverage, very satisfied!</td>\n",
       "      <td>5</td>\n",
       "      <td>Stabilité</td>\n",
       "      <td>Sousse</td>\n",
       "      <td>Positif</td>\n",
       "      <td>Joie</td>\n",
       "      <td>0.5</td>\n",
       "      <td>Excellent 5G coverage…</td>\n",
       "      <td>Prepaid</td>\n",
       "      <td>B2B</td>\n",
       "      <td>more than 15 year</td>\n",
       "      <td>Offre 1000</td>\n",
       "      <td>Entreprise</td>\n",
       "      <td>NaN</td>\n",
       "      <td>NaN</td>\n",
       "    </tr>\n",
       "    <tr>\n",
       "      <th>1</th>\n",
       "      <td>25876567.0</td>\n",
       "      <td>20-35</td>\n",
       "      <td>Femme</td>\n",
       "      <td>2025-03-07</td>\n",
       "      <td>Anglais</td>\n",
       "      <td>La couverture est excellente dans ma région.</td>\n",
       "      <td>5</td>\n",
       "      <td>Service client</td>\n",
       "      <td>Tunis</td>\n",
       "      <td>Neutre</td>\n",
       "      <td>Joie</td>\n",
       "      <td>0.2</td>\n",
       "      <td>5G works well but...</td>\n",
       "      <td>Paid</td>\n",
       "      <td>B2C</td>\n",
       "      <td>less than 10 year</td>\n",
       "      <td>Offre 1000</td>\n",
       "      <td>High value</td>\n",
       "      <td>NaN</td>\n",
       "      <td>NaN</td>\n",
       "    </tr>\n",
       "    <tr>\n",
       "      <th>2</th>\n",
       "      <td>22656507.0</td>\n",
       "      <td>50+</td>\n",
       "      <td>Homme</td>\n",
       "      <td>2025-02-05</td>\n",
       "      <td>Arabe</td>\n",
       "      <td>تغطية 5G ممتازة، أنا راضٍ جدًا!</td>\n",
       "      <td>5</td>\n",
       "      <td>Couverture</td>\n",
       "      <td>Tunis</td>\n",
       "      <td>Positif</td>\n",
       "      <td>Joie</td>\n",
       "      <td>0.2</td>\n",
       "      <td>تغطية 5G ممتازة، أنا…</td>\n",
       "      <td>Paid</td>\n",
       "      <td>B2B</td>\n",
       "      <td>0 to 3 months</td>\n",
       "      <td>Offre 1000</td>\n",
       "      <td>High value</td>\n",
       "      <td>NaN</td>\n",
       "      <td>NaN</td>\n",
       "    </tr>\n",
       "    <tr>\n",
       "      <th>3</th>\n",
       "      <td>25987154.0</td>\n",
       "      <td>36-50</td>\n",
       "      <td>Femme</td>\n",
       "      <td>2025-03-18</td>\n",
       "      <td>Anglais</td>\n",
       "      <td>كنكسيون خايبة</td>\n",
       "      <td>1</td>\n",
       "      <td>Stabilité</td>\n",
       "      <td>Sousse</td>\n",
       "      <td>Neutre</td>\n",
       "      <td>Colère</td>\n",
       "      <td>0.9</td>\n",
       "      <td>5G works well but...</td>\n",
       "      <td>Prepaid</td>\n",
       "      <td>B2B</td>\n",
       "      <td>more than 2 years</td>\n",
       "      <td>Offre 1000</td>\n",
       "      <td>High value</td>\n",
       "      <td>NaN</td>\n",
       "      <td>NaN</td>\n",
       "    </tr>\n",
       "    <tr>\n",
       "      <th>4</th>\n",
       "      <td>20546148.0</td>\n",
       "      <td>16-20</td>\n",
       "      <td>Homme</td>\n",
       "      <td>2025-04-09</td>\n",
       "      <td>Français</td>\n",
       "      <td>La 5G fonctionne bien mais parfois instable.</td>\n",
       "      <td>4</td>\n",
       "      <td>Service client</td>\n",
       "      <td>Nabeul</td>\n",
       "      <td>Neutre</td>\n",
       "      <td>Légère inquiétude</td>\n",
       "      <td>0.1</td>\n",
       "      <td>La 5G fonctionne bien mais…</td>\n",
       "      <td>Paid</td>\n",
       "      <td>B2B</td>\n",
       "      <td>0 to 6 months</td>\n",
       "      <td>Offre 1000</td>\n",
       "      <td>High value</td>\n",
       "      <td>NaN</td>\n",
       "      <td>NaN</td>\n",
       "    </tr>\n",
       "  </tbody>\n",
       "</table>\n",
       "</div>"
      ],
      "text/plain": [
       "   Numéro Client    Age  Genre Date de retour    Langue  \\\n",
       "0     24737244.0  18-25  Homme     2025-01-10   Anglais   \n",
       "1     25876567.0  20-35  Femme     2025-03-07   Anglais   \n",
       "2     22656507.0    50+  Homme     2025-02-05     Arabe   \n",
       "3     25987154.0  36-50  Femme     2025-03-18   Anglais   \n",
       "4     20546148.0  16-20  Homme     2025-04-09  Français   \n",
       "\n",
       "                                    Avis Client Note Type de problème  \\\n",
       "0        Excellent 5G coverage, very satisfied!    5        Stabilité   \n",
       "1  La couverture est excellente dans ma région.    5   Service client   \n",
       "2               تغطية 5G ممتازة، أنا راضٍ جدًا!    5       Couverture   \n",
       "3                                 كنكسيون خايبة    1        Stabilité   \n",
       "4  La 5G fonctionne bien mais parfois instable.    4   Service client   \n",
       "\n",
       "  Localisation Score de sentiment   Émotion détectée  Probabilité de churn  \\\n",
       "0       Sousse            Positif               Joie                   0.5   \n",
       "1        Tunis             Neutre               Joie                   0.2   \n",
       "2        Tunis            Positif               Joie                   0.2   \n",
       "3       Sousse             Neutre             Colère                   0.9   \n",
       "4       Nabeul             Neutre  Légère inquiétude                   0.1   \n",
       "\n",
       "              Résumé de l’avis Connection Type Customer Type  \\\n",
       "0       Excellent 5G coverage…        Prepaid            B2B   \n",
       "1         5G works well but...            Paid           B2C   \n",
       "2        تغطية 5G ممتازة، أنا…            Paid           B2B   \n",
       "3         5G works well but...        Prepaid            B2B   \n",
       "4  La 5G fonctionne bien mais…            Paid           B2B   \n",
       "\n",
       "      Customer Tenure Tarif nom (Forfait) Segment Client  Unnamed: 18  \\\n",
       "0   more than 15 year          Offre 1000    Entreprise           NaN   \n",
       "1  less than 10 year           Offre 1000     High value          NaN   \n",
       "2      0 to 3 months           Offre 1000     High value          NaN   \n",
       "3   more than 2 years          Offre 1000     High value          NaN   \n",
       "4       0 to 6 months          Offre 1000     High value          NaN   \n",
       "\n",
       "   Unnamed: 19  \n",
       "0          NaN  \n",
       "1          NaN  \n",
       "2          NaN  \n",
       "3          NaN  \n",
       "4          NaN  "
      ]
     },
     "execution_count": 5,
     "metadata": {},
     "output_type": "execute_result"
    }
   ],
   "source": [
    "df.head()"
   ]
  },
  {
   "cell_type": "code",
   "execution_count": 6,
   "id": "c34d2e92-d0ec-4cf2-8e8b-2282b361f52c",
   "metadata": {},
   "outputs": [
    {
     "name": "stdout",
     "output_type": "stream",
     "text": [
      "<class 'pandas.core.frame.DataFrame'>\n",
      "RangeIndex: 1488 entries, 0 to 1487\n",
      "Data columns (total 20 columns):\n",
      " #   Column                Non-Null Count  Dtype         \n",
      "---  ------                --------------  -----         \n",
      " 0   Numéro Client         200 non-null    float64       \n",
      " 1   Age                   200 non-null    object        \n",
      " 2   Genre                 900 non-null    object        \n",
      " 3   Date de retour        749 non-null    datetime64[ns]\n",
      " 4   Langue                797 non-null    object        \n",
      " 5   Avis Client           1486 non-null   object        \n",
      " 6   Note                  800 non-null    object        \n",
      " 7   Type de problème      251 non-null    object        \n",
      " 8   Localisation          201 non-null    object        \n",
      " 9   Score de sentiment    200 non-null    object        \n",
      " 10  Émotion détectée      200 non-null    object        \n",
      " 11  Probabilité de churn  200 non-null    float64       \n",
      " 12  Résumé de l’avis      198 non-null    object        \n",
      " 13  Connection Type       200 non-null    object        \n",
      " 14  Customer Type         200 non-null    object        \n",
      " 15  Customer Tenure       200 non-null    object        \n",
      " 16  Tarif nom (Forfait)   200 non-null    object        \n",
      " 17  Segment Client        200 non-null    object        \n",
      " 18  Unnamed: 18           0 non-null      float64       \n",
      " 19  Unnamed: 19           0 non-null      float64       \n",
      "dtypes: datetime64[ns](1), float64(4), object(15)\n",
      "memory usage: 232.6+ KB\n"
     ]
    }
   ],
   "source": [
    "df.info()"
   ]
  },
  {
   "cell_type": "code",
   "execution_count": 7,
   "id": "68398f74-8bf9-4bc1-9060-3fa3dd3adbc7",
   "metadata": {},
   "outputs": [
    {
     "data": {
      "text/plain": [
       "(1488, 20)"
      ]
     },
     "execution_count": 7,
     "metadata": {},
     "output_type": "execute_result"
    }
   ],
   "source": [
    "df.shape"
   ]
  },
  {
   "cell_type": "code",
   "execution_count": 8,
   "id": "db0bb2c9-eb2a-4fc1-89b6-e7a01ea94d57",
   "metadata": {},
   "outputs": [
    {
     "name": "stdout",
     "output_type": "stream",
     "text": [
      "Numéro Client           1288\n",
      "Age                     1288\n",
      "Genre                    588\n",
      "Date de retour           739\n",
      "Langue                   691\n",
      "Avis Client                2\n",
      "Note                     688\n",
      "Type de problème        1237\n",
      "Localisation            1287\n",
      "Score de sentiment      1288\n",
      "Émotion détectée        1288\n",
      "Probabilité de churn    1288\n",
      "Résumé de l’avis        1290\n",
      "Connection Type         1288\n",
      "Customer Type           1288\n",
      "Customer Tenure         1288\n",
      "Tarif nom (Forfait)     1288\n",
      "Segment Client          1288\n",
      "Unnamed: 18             1488\n",
      "Unnamed: 19             1488\n",
      "dtype: int64\n"
     ]
    }
   ],
   "source": [
    "print(df.isnull().sum())  # Voir les valeurs manquantes"
   ]
  },
  {
   "cell_type": "code",
   "execution_count": 9,
   "id": "ce073b2b-deed-4c99-adda-00c22b1a1549",
   "metadata": {},
   "outputs": [],
   "source": [
    "# supprime les colonnes 18 et 19\n",
    "df = df.drop(columns=['Unnamed: 18', 'Unnamed: 19'], errors='ignore')"
   ]
  },
  {
   "cell_type": "code",
   "execution_count": 10,
   "id": "c13f1a06-9afa-45b8-84df-bbce492cfbcb",
   "metadata": {},
   "outputs": [
    {
     "name": "stdout",
     "output_type": "stream",
     "text": [
      "<class 'pandas.core.frame.DataFrame'>\n",
      "RangeIndex: 1488 entries, 0 to 1487\n",
      "Data columns (total 18 columns):\n",
      " #   Column                Non-Null Count  Dtype         \n",
      "---  ------                --------------  -----         \n",
      " 0   Numéro Client         200 non-null    float64       \n",
      " 1   Age                   200 non-null    object        \n",
      " 2   Genre                 900 non-null    object        \n",
      " 3   Date de retour        749 non-null    datetime64[ns]\n",
      " 4   Langue                797 non-null    object        \n",
      " 5   Avis Client           1486 non-null   object        \n",
      " 6   Note                  800 non-null    object        \n",
      " 7   Type de problème      251 non-null    object        \n",
      " 8   Localisation          201 non-null    object        \n",
      " 9   Score de sentiment    200 non-null    object        \n",
      " 10  Émotion détectée      200 non-null    object        \n",
      " 11  Probabilité de churn  200 non-null    float64       \n",
      " 12  Résumé de l’avis      198 non-null    object        \n",
      " 13  Connection Type       200 non-null    object        \n",
      " 14  Customer Type         200 non-null    object        \n",
      " 15  Customer Tenure       200 non-null    object        \n",
      " 16  Tarif nom (Forfait)   200 non-null    object        \n",
      " 17  Segment Client        200 non-null    object        \n",
      "dtypes: datetime64[ns](1), float64(2), object(15)\n",
      "memory usage: 209.4+ KB\n"
     ]
    }
   ],
   "source": [
    "df.info()"
   ]
  },
  {
   "cell_type": "code",
   "execution_count": 11,
   "id": "90fc2656-1274-4f27-86a6-66c026c18edd",
   "metadata": {},
   "outputs": [],
   "source": [
    "# ajouter une colonne id_client auto incrémant a la place de numéro client \n",
    "\n",
    "# 1. Réinitialiser l'index (important si tu as supprimé des lignes)\n",
    "df.reset_index(drop=True, inplace=True)\n",
    "\n",
    "# 2. Créer une nouvelle colonne auto-incrémentée\n",
    "df['id_client'] = df.index + 1  # Commence à 1\n",
    "\n",
    "# 3. Supprimer la colonne \"Numéro Client\"\n",
    "df.drop(columns=['Numéro Client'], inplace=False)\n",
    "\n",
    "# 4. Réorganiser les colonnes : mettre id_client en premier\n",
    "cols = ['id_client'] + [col for col in df.columns if col != 'id_client']\n",
    "df = df[cols]\n",
    "\n"
   ]
  },
  {
   "cell_type": "code",
   "execution_count": 12,
   "id": "d779a571-c77f-4c9d-9d8d-6705f920a3e9",
   "metadata": {},
   "outputs": [
    {
     "name": "stdout",
     "output_type": "stream",
     "text": [
      "<class 'pandas.core.frame.DataFrame'>\n",
      "RangeIndex: 1488 entries, 0 to 1487\n",
      "Data columns (total 19 columns):\n",
      " #   Column                Non-Null Count  Dtype         \n",
      "---  ------                --------------  -----         \n",
      " 0   id_client             1488 non-null   int64         \n",
      " 1   Numéro Client         200 non-null    float64       \n",
      " 2   Age                   200 non-null    object        \n",
      " 3   Genre                 900 non-null    object        \n",
      " 4   Date de retour        749 non-null    datetime64[ns]\n",
      " 5   Langue                797 non-null    object        \n",
      " 6   Avis Client           1486 non-null   object        \n",
      " 7   Note                  800 non-null    object        \n",
      " 8   Type de problème      251 non-null    object        \n",
      " 9   Localisation          201 non-null    object        \n",
      " 10  Score de sentiment    200 non-null    object        \n",
      " 11  Émotion détectée      200 non-null    object        \n",
      " 12  Probabilité de churn  200 non-null    float64       \n",
      " 13  Résumé de l’avis      198 non-null    object        \n",
      " 14  Connection Type       200 non-null    object        \n",
      " 15  Customer Type         200 non-null    object        \n",
      " 16  Customer Tenure       200 non-null    object        \n",
      " 17  Tarif nom (Forfait)   200 non-null    object        \n",
      " 18  Segment Client        200 non-null    object        \n",
      "dtypes: datetime64[ns](1), float64(2), int64(1), object(15)\n",
      "memory usage: 221.0+ KB\n"
     ]
    }
   ],
   "source": [
    "df.info()"
   ]
  },
  {
   "cell_type": "code",
   "execution_count": 13,
   "id": "0e862b5b-ee9c-4283-a699-6c1f4c3773cf",
   "metadata": {},
   "outputs": [
    {
     "data": {
      "text/html": [
       "<div>\n",
       "<style scoped>\n",
       "    .dataframe tbody tr th:only-of-type {\n",
       "        vertical-align: middle;\n",
       "    }\n",
       "\n",
       "    .dataframe tbody tr th {\n",
       "        vertical-align: top;\n",
       "    }\n",
       "\n",
       "    .dataframe thead th {\n",
       "        text-align: right;\n",
       "    }\n",
       "</style>\n",
       "<table border=\"1\" class=\"dataframe\">\n",
       "  <thead>\n",
       "    <tr style=\"text-align: right;\">\n",
       "      <th></th>\n",
       "      <th>id_client</th>\n",
       "      <th>Numéro Client</th>\n",
       "      <th>Age</th>\n",
       "      <th>Genre</th>\n",
       "      <th>Date de retour</th>\n",
       "      <th>Langue</th>\n",
       "      <th>Avis Client</th>\n",
       "      <th>Note</th>\n",
       "      <th>Type de problème</th>\n",
       "      <th>Localisation</th>\n",
       "      <th>Score de sentiment</th>\n",
       "      <th>Émotion détectée</th>\n",
       "      <th>Probabilité de churn</th>\n",
       "      <th>Résumé de l’avis</th>\n",
       "      <th>Connection Type</th>\n",
       "      <th>Customer Type</th>\n",
       "      <th>Customer Tenure</th>\n",
       "      <th>Tarif nom (Forfait)</th>\n",
       "      <th>Segment Client</th>\n",
       "    </tr>\n",
       "  </thead>\n",
       "  <tbody>\n",
       "    <tr>\n",
       "      <th>0</th>\n",
       "      <td>1</td>\n",
       "      <td>24737244.0</td>\n",
       "      <td>18-25</td>\n",
       "      <td>Homme</td>\n",
       "      <td>2025-01-10</td>\n",
       "      <td>Anglais</td>\n",
       "      <td>Excellent 5G coverage, very satisfied!</td>\n",
       "      <td>5</td>\n",
       "      <td>Stabilité</td>\n",
       "      <td>Sousse</td>\n",
       "      <td>Positif</td>\n",
       "      <td>Joie</td>\n",
       "      <td>0.5</td>\n",
       "      <td>Excellent 5G coverage…</td>\n",
       "      <td>Prepaid</td>\n",
       "      <td>B2B</td>\n",
       "      <td>more than 15 year</td>\n",
       "      <td>Offre 1000</td>\n",
       "      <td>Entreprise</td>\n",
       "    </tr>\n",
       "    <tr>\n",
       "      <th>1</th>\n",
       "      <td>2</td>\n",
       "      <td>25876567.0</td>\n",
       "      <td>20-35</td>\n",
       "      <td>Femme</td>\n",
       "      <td>2025-03-07</td>\n",
       "      <td>Anglais</td>\n",
       "      <td>La couverture est excellente dans ma région.</td>\n",
       "      <td>5</td>\n",
       "      <td>Service client</td>\n",
       "      <td>Tunis</td>\n",
       "      <td>Neutre</td>\n",
       "      <td>Joie</td>\n",
       "      <td>0.2</td>\n",
       "      <td>5G works well but...</td>\n",
       "      <td>Paid</td>\n",
       "      <td>B2C</td>\n",
       "      <td>less than 10 year</td>\n",
       "      <td>Offre 1000</td>\n",
       "      <td>High value</td>\n",
       "    </tr>\n",
       "    <tr>\n",
       "      <th>2</th>\n",
       "      <td>3</td>\n",
       "      <td>22656507.0</td>\n",
       "      <td>50+</td>\n",
       "      <td>Homme</td>\n",
       "      <td>2025-02-05</td>\n",
       "      <td>Arabe</td>\n",
       "      <td>تغطية 5G ممتازة، أنا راضٍ جدًا!</td>\n",
       "      <td>5</td>\n",
       "      <td>Couverture</td>\n",
       "      <td>Tunis</td>\n",
       "      <td>Positif</td>\n",
       "      <td>Joie</td>\n",
       "      <td>0.2</td>\n",
       "      <td>تغطية 5G ممتازة، أنا…</td>\n",
       "      <td>Paid</td>\n",
       "      <td>B2B</td>\n",
       "      <td>0 to 3 months</td>\n",
       "      <td>Offre 1000</td>\n",
       "      <td>High value</td>\n",
       "    </tr>\n",
       "    <tr>\n",
       "      <th>3</th>\n",
       "      <td>4</td>\n",
       "      <td>25987154.0</td>\n",
       "      <td>36-50</td>\n",
       "      <td>Femme</td>\n",
       "      <td>2025-03-18</td>\n",
       "      <td>Anglais</td>\n",
       "      <td>كنكسيون خايبة</td>\n",
       "      <td>1</td>\n",
       "      <td>Stabilité</td>\n",
       "      <td>Sousse</td>\n",
       "      <td>Neutre</td>\n",
       "      <td>Colère</td>\n",
       "      <td>0.9</td>\n",
       "      <td>5G works well but...</td>\n",
       "      <td>Prepaid</td>\n",
       "      <td>B2B</td>\n",
       "      <td>more than 2 years</td>\n",
       "      <td>Offre 1000</td>\n",
       "      <td>High value</td>\n",
       "    </tr>\n",
       "    <tr>\n",
       "      <th>4</th>\n",
       "      <td>5</td>\n",
       "      <td>20546148.0</td>\n",
       "      <td>16-20</td>\n",
       "      <td>Homme</td>\n",
       "      <td>2025-04-09</td>\n",
       "      <td>Français</td>\n",
       "      <td>La 5G fonctionne bien mais parfois instable.</td>\n",
       "      <td>4</td>\n",
       "      <td>Service client</td>\n",
       "      <td>Nabeul</td>\n",
       "      <td>Neutre</td>\n",
       "      <td>Légère inquiétude</td>\n",
       "      <td>0.1</td>\n",
       "      <td>La 5G fonctionne bien mais…</td>\n",
       "      <td>Paid</td>\n",
       "      <td>B2B</td>\n",
       "      <td>0 to 6 months</td>\n",
       "      <td>Offre 1000</td>\n",
       "      <td>High value</td>\n",
       "    </tr>\n",
       "  </tbody>\n",
       "</table>\n",
       "</div>"
      ],
      "text/plain": [
       "   id_client  Numéro Client    Age  Genre Date de retour    Langue  \\\n",
       "0          1     24737244.0  18-25  Homme     2025-01-10   Anglais   \n",
       "1          2     25876567.0  20-35  Femme     2025-03-07   Anglais   \n",
       "2          3     22656507.0    50+  Homme     2025-02-05     Arabe   \n",
       "3          4     25987154.0  36-50  Femme     2025-03-18   Anglais   \n",
       "4          5     20546148.0  16-20  Homme     2025-04-09  Français   \n",
       "\n",
       "                                    Avis Client Note Type de problème  \\\n",
       "0        Excellent 5G coverage, very satisfied!    5        Stabilité   \n",
       "1  La couverture est excellente dans ma région.    5   Service client   \n",
       "2               تغطية 5G ممتازة، أنا راضٍ جدًا!    5       Couverture   \n",
       "3                                 كنكسيون خايبة    1        Stabilité   \n",
       "4  La 5G fonctionne bien mais parfois instable.    4   Service client   \n",
       "\n",
       "  Localisation Score de sentiment   Émotion détectée  Probabilité de churn  \\\n",
       "0       Sousse            Positif               Joie                   0.5   \n",
       "1        Tunis             Neutre               Joie                   0.2   \n",
       "2        Tunis            Positif               Joie                   0.2   \n",
       "3       Sousse             Neutre             Colère                   0.9   \n",
       "4       Nabeul             Neutre  Légère inquiétude                   0.1   \n",
       "\n",
       "              Résumé de l’avis Connection Type Customer Type  \\\n",
       "0       Excellent 5G coverage…        Prepaid            B2B   \n",
       "1         5G works well but...            Paid           B2C   \n",
       "2        تغطية 5G ممتازة، أنا…            Paid           B2B   \n",
       "3         5G works well but...        Prepaid            B2B   \n",
       "4  La 5G fonctionne bien mais…            Paid           B2B   \n",
       "\n",
       "      Customer Tenure Tarif nom (Forfait) Segment Client  \n",
       "0   more than 15 year          Offre 1000    Entreprise   \n",
       "1  less than 10 year           Offre 1000     High value  \n",
       "2      0 to 3 months           Offre 1000     High value  \n",
       "3   more than 2 years          Offre 1000     High value  \n",
       "4       0 to 6 months          Offre 1000     High value  "
      ]
     },
     "execution_count": 13,
     "metadata": {},
     "output_type": "execute_result"
    }
   ],
   "source": [
    "df.head()"
   ]
  },
  {
   "cell_type": "code",
   "execution_count": 14,
   "id": "201d1d0a-6198-4371-a530-333508b1f0d2",
   "metadata": {},
   "outputs": [],
   "source": [
    "# remplir la colonne date \n",
    "import datetime\n",
    "df['Date de retour'] = df['Date de retour'].fillna(pd.Timestamp(datetime.date.today()))"
   ]
  },
  {
   "cell_type": "code",
   "execution_count": 15,
   "id": "ccec66ca-56a7-4b11-8a5d-aa22ab8d32ea",
   "metadata": {},
   "outputs": [
    {
     "name": "stdout",
     "output_type": "stream",
     "text": [
      "<class 'pandas.core.frame.DataFrame'>\n",
      "RangeIndex: 1488 entries, 0 to 1487\n",
      "Data columns (total 19 columns):\n",
      " #   Column                Non-Null Count  Dtype         \n",
      "---  ------                --------------  -----         \n",
      " 0   id_client             1488 non-null   int64         \n",
      " 1   Numéro Client         200 non-null    float64       \n",
      " 2   Age                   200 non-null    object        \n",
      " 3   Genre                 900 non-null    object        \n",
      " 4   Date de retour        1488 non-null   datetime64[ns]\n",
      " 5   Langue                797 non-null    object        \n",
      " 6   Avis Client           1486 non-null   object        \n",
      " 7   Note                  800 non-null    object        \n",
      " 8   Type de problème      251 non-null    object        \n",
      " 9   Localisation          201 non-null    object        \n",
      " 10  Score de sentiment    200 non-null    object        \n",
      " 11  Émotion détectée      200 non-null    object        \n",
      " 12  Probabilité de churn  200 non-null    float64       \n",
      " 13  Résumé de l’avis      198 non-null    object        \n",
      " 14  Connection Type       200 non-null    object        \n",
      " 15  Customer Type         200 non-null    object        \n",
      " 16  Customer Tenure       200 non-null    object        \n",
      " 17  Tarif nom (Forfait)   200 non-null    object        \n",
      " 18  Segment Client        200 non-null    object        \n",
      "dtypes: datetime64[ns](1), float64(2), int64(1), object(15)\n",
      "memory usage: 221.0+ KB\n"
     ]
    }
   ],
   "source": [
    "df.info()"
   ]
  },
  {
   "cell_type": "code",
   "execution_count": 16,
   "id": "5b3213e4-3891-4a78-8459-9e7d39ff7fd9",
   "metadata": {},
   "outputs": [
    {
     "name": "stdout",
     "output_type": "stream",
     "text": [
      "\n",
      "📊 Valeurs les plus fréquentes dans la colonne : Type de problème\n",
      "Type de problème\n",
      "NaN                                   1237\n",
      "Stabilité                               52\n",
      "Service client                          44\n",
      "Couverture                              38\n",
      "Débit                                   36\n",
      "Autre                                   30\n",
      "1                                       20\n",
      "5                                       19\n",
      "3                                        6\n",
      "4                                        2\n",
      "c jolie                                  1\n",
      "Je suis avec Ooredoo depuis 20 ans       1\n",
      "شكراً اوريدو                             1\n",
      "2                                        1\n",
      "Name: count, dtype: int64\n",
      "\n",
      "📊 Valeurs les plus fréquentes dans la colonne : Score de sentiment\n",
      "Score de sentiment\n",
      "NaN        1288\n",
      "Négatif     130\n",
      "Neutre       42\n",
      "Positif      28\n",
      "Name: count, dtype: int64\n",
      "\n",
      "📊 Valeurs les plus fréquentes dans la colonne : Émotion détectée\n",
      "Émotion détectée\n",
      "NaN                  1288\n",
      "Colère                128\n",
      "Joie                   40\n",
      "Légère inquiétude      32\n",
      "Name: count, dtype: int64\n",
      "\n",
      "📊 Valeurs les plus fréquentes dans la colonne : Connection Type\n",
      "Connection Type\n",
      "NaN         1288\n",
      "Prepaid       76\n",
      "Paid          70\n",
      "Hybrid        54\n",
      "Name: count, dtype: int64\n",
      "\n",
      "📊 Valeurs les plus fréquentes dans la colonne : Customer Type\n",
      "Customer Type\n",
      "NaN    1288\n",
      "B2C     102\n",
      "B2B      98\n",
      "Name: count, dtype: int64\n"
     ]
    }
   ],
   "source": [
    "colonnes_a_analyser = [\n",
    "    'Type de problème',\n",
    "    'Score de sentiment',\n",
    "    'Émotion détectée',\n",
    "    'Connection Type',\n",
    "    'Customer Type'\n",
    "]\n",
    "\n",
    "for col in colonnes_a_analyser:\n",
    "    print(f\"\\n📊 Valeurs les plus fréquentes dans la colonne : {col}\")\n",
    "    print(df[col].value_counts(dropna=False))  # dropna=False inclut les NaN\n"
   ]
  },
  {
   "cell_type": "code",
   "execution_count": 17,
   "id": "2da2d9c2-73f4-4028-ad67-d9b46261b13f",
   "metadata": {},
   "outputs": [],
   "source": [
    "# 1. Nettoyer les avis clients \"isolés\" → remplacer par \"pas de problème\"\n",
    "avis_a_remplacer = [\n",
    "    \"c jolie\",\n",
    "    \"Je suis avec Ooredoo depuis 20 ans\",\n",
    "    \"شكراً اوريدو\",\n",
    "    \"2\"\n",
    "]\n",
    "df['Type de problème'] = df['Type de problème'].replace(avis_a_remplacer, \"Pas de problème\")"
   ]
  },
  {
   "cell_type": "code",
   "execution_count": 18,
   "id": "f2062332-0bfa-4098-87f6-b165fd245f5b",
   "metadata": {},
   "outputs": [
    {
     "name": "stdout",
     "output_type": "stream",
     "text": [
      "Index(['id_client', 'Numéro Client', 'Age', 'Genre', 'Date de retour',\n",
      "       'Langue', 'Avis Client', 'Note', 'Type de problème', 'Localisation',\n",
      "       'Score de sentiment', 'Émotion détectée', 'Probabilité de churn',\n",
      "       'Résumé de l’avis', 'Connection Type', 'Customer Type',\n",
      "       'Customer Tenure', 'Tarif nom (Forfait)', 'Segment Client'],\n",
      "      dtype='object')\n"
     ]
    }
   ],
   "source": [
    "print(df.columns)"
   ]
  },
  {
   "cell_type": "code",
   "execution_count": 19,
   "id": "26524e18-9e32-4acf-814b-87d02c36a09b",
   "metadata": {},
   "outputs": [],
   "source": [
    "# Remplacer les valeurs 1, 2, 4, 5 par \"Service client\"\n",
    "df['Type de problème'] = df['Type de problème'].replace([1,2,  4, 5], \" Service client  \")\n",
    "# Remplacer les valeurs 3 par \"Problème Application\"\n",
    "df['Type de problème'] = df['Type de problème'].replace([3], \"Problème Application\")\n",
    "# Enlever les espaces avant/après dans toute la colonne\n",
    "df['Type de problème'] = df['Type de problème'].astype(str).str.strip()"
   ]
  },
  {
   "cell_type": "code",
   "execution_count": 20,
   "id": "3f983014-67c0-495c-98c7-3ec94859da15",
   "metadata": {},
   "outputs": [],
   "source": [
    "def update_type_probleme(row):\n",
    "    val = row['Type de problème']\n",
    "    # Teste si val est NaN ou vide après suppression des espaces\n",
    "    if pd.isna(val) or (isinstance(val, str) and val.strip() == ''):\n",
    "        if row['Note'] in [1, 2, 4, 5]:\n",
    "            return \"Service client\"\n",
    "        elif row['Note'] == 3:\n",
    "            return \"Problème Application\"\n",
    "        else:\n",
    "            return val\n",
    "    else:\n",
    "        return val\n",
    "\n",
    "\n",
    "# hedhi mamchetech "
   ]
  },
  {
   "cell_type": "code",
   "execution_count": 21,
   "id": "92939e19-5c21-48c2-b558-434be16ba8eb",
   "metadata": {},
   "outputs": [
    {
     "data": {
      "text/plain": [
       "Type de problème\n",
       "nan                     1237\n",
       "Service client            86\n",
       "Stabilité                 52\n",
       "Couverture                38\n",
       "Débit                     36\n",
       "Autre                     30\n",
       "Problème Application       6\n",
       "Pas de problème            3\n",
       "Name: count, dtype: int64"
      ]
     },
     "execution_count": 21,
     "metadata": {},
     "output_type": "execute_result"
    }
   ],
   "source": [
    "df['Type de problème'].value_counts()"
   ]
  },
  {
   "cell_type": "code",
   "execution_count": 22,
   "id": "68fbf6a6-5ade-4574-a492-432cb742828c",
   "metadata": {},
   "outputs": [
    {
     "name": "stdout",
     "output_type": "stream",
     "text": [
      "<class 'pandas.core.frame.DataFrame'>\n",
      "RangeIndex: 1488 entries, 0 to 1487\n",
      "Data columns (total 19 columns):\n",
      " #   Column                Non-Null Count  Dtype         \n",
      "---  ------                --------------  -----         \n",
      " 0   id_client             1488 non-null   int64         \n",
      " 1   Numéro Client         200 non-null    float64       \n",
      " 2   Age                   200 non-null    object        \n",
      " 3   Genre                 900 non-null    object        \n",
      " 4   Date de retour        1488 non-null   datetime64[ns]\n",
      " 5   Langue                797 non-null    object        \n",
      " 6   Avis Client           1486 non-null   object        \n",
      " 7   Note                  800 non-null    object        \n",
      " 8   Type de problème      1488 non-null   object        \n",
      " 9   Localisation          201 non-null    object        \n",
      " 10  Score de sentiment    200 non-null    object        \n",
      " 11  Émotion détectée      200 non-null    object        \n",
      " 12  Probabilité de churn  200 non-null    float64       \n",
      " 13  Résumé de l’avis      198 non-null    object        \n",
      " 14  Connection Type       200 non-null    object        \n",
      " 15  Customer Type         200 non-null    object        \n",
      " 16  Customer Tenure       200 non-null    object        \n",
      " 17  Tarif nom (Forfait)   200 non-null    object        \n",
      " 18  Segment Client        200 non-null    object        \n",
      "dtypes: datetime64[ns](1), float64(2), int64(1), object(15)\n",
      "memory usage: 221.0+ KB\n"
     ]
    }
   ],
   "source": [
    "df.info()"
   ]
  },
  {
   "cell_type": "code",
   "execution_count": 23,
   "id": "7273a69d-35b1-4ec2-ab98-52886f2bd7ef",
   "metadata": {},
   "outputs": [],
   "source": [
    "#df.to_excel(\"donnees_nettoyees1.xlsx\", index=False)"
   ]
  },
  {
   "cell_type": "markdown",
   "id": "3f4b18a1-6fcd-4d75-b911-8fb537bddf3c",
   "metadata": {},
   "source": [
    "## Avec le fichier \"données nettoyes\" : "
   ]
  },
  {
   "cell_type": "code",
   "execution_count": 1,
   "id": "bc7f1dc7-b966-4033-9233-7ab971219205",
   "metadata": {},
   "outputs": [],
   "source": [
    "#  1. Importer les bibliothèques nécessaires\n",
    "import pandas as pd\n",
    "import numpy as np"
   ]
  },
  {
   "cell_type": "code",
   "execution_count": 2,
   "id": "6f836ff0-b1bc-4c18-8d1f-f4831d71929c",
   "metadata": {},
   "outputs": [],
   "source": [
    "# 2. Charger les données\n",
    "df_net = pd.read_excel('donnees_nettoyees.xlsx')"
   ]
  },
  {
   "cell_type": "code",
   "execution_count": 27,
   "id": "5875b201-a865-4490-8b7b-c5c1f9ca171d",
   "metadata": {},
   "outputs": [
    {
     "name": "stdout",
     "output_type": "stream",
     "text": [
      "<class 'pandas.core.frame.DataFrame'>\n",
      "RangeIndex: 1488 entries, 0 to 1487\n",
      "Data columns (total 19 columns):\n",
      " #   Column                Non-Null Count  Dtype         \n",
      "---  ------                --------------  -----         \n",
      " 0   id_client             1488 non-null   int64         \n",
      " 1   Numéro Client         200 non-null    float64       \n",
      " 2   Age                   200 non-null    object        \n",
      " 3   Genre                 900 non-null    object        \n",
      " 4   Date de retour        1488 non-null   datetime64[ns]\n",
      " 5   Langue                1488 non-null   object        \n",
      " 6   Avis Client           1486 non-null   object        \n",
      " 7   Note                  799 non-null    float64       \n",
      " 8   Type de problème      251 non-null    object        \n",
      " 9   Localisation          200 non-null    object        \n",
      " 10  Score de sentiment    200 non-null    object        \n",
      " 11  Émotion détectée      200 non-null    object        \n",
      " 12  Probabilité de churn  200 non-null    float64       \n",
      " 13  Résumé de l’avis      198 non-null    object        \n",
      " 14  Connection Type       200 non-null    object        \n",
      " 15  Customer Type         200 non-null    object        \n",
      " 16  Customer Tenure       200 non-null    object        \n",
      " 17  Tarif nom (Forfait)   200 non-null    object        \n",
      " 18  Segment Client        200 non-null    object        \n",
      "dtypes: datetime64[ns](1), float64(3), int64(1), object(14)\n",
      "memory usage: 221.0+ KB\n"
     ]
    }
   ],
   "source": [
    "df_net.info()"
   ]
  },
  {
   "cell_type": "code",
   "execution_count": 28,
   "id": "928d84f7-7e20-40a1-a793-240152a3a2d4",
   "metadata": {},
   "outputs": [
    {
     "name": "stdout",
     "output_type": "stream",
     "text": [
      "\n",
      "📊 Valeurs les plus fréquentes dans la colonne : Type de problème\n",
      "Type de problème\n",
      "NaN                     1237\n",
      "Service client            86\n",
      "Stabilité                 52\n",
      "Couverture                38\n",
      "Débit                     36\n",
      "Autre                     30\n",
      "Problème Application       6\n",
      "Pas de problème            3\n",
      "Name: count, dtype: int64\n",
      "\n",
      "📊 Valeurs les plus fréquentes dans la colonne : Score de sentiment\n",
      "Score de sentiment\n",
      "NaN        1288\n",
      "Négatif     127\n",
      "Positif      41\n",
      "Neutre       32\n",
      "Name: count, dtype: int64\n",
      "\n",
      "📊 Valeurs les plus fréquentes dans la colonne : Émotion détectée\n",
      "Émotion détectée\n",
      "NaN                  1288\n",
      "Colère                127\n",
      "Joie                   41\n",
      "Légère inquiétude      32\n",
      "Name: count, dtype: int64\n",
      "\n",
      "📊 Valeurs les plus fréquentes dans la colonne : Connection Type\n",
      "Connection Type\n",
      "NaN         1288\n",
      "Prepaid       76\n",
      "Paid          70\n",
      "Hybrid        54\n",
      "Name: count, dtype: int64\n",
      "\n",
      "📊 Valeurs les plus fréquentes dans la colonne : Customer Type\n",
      "Customer Type\n",
      "NaN    1288\n",
      "B2C     102\n",
      "B2B      98\n",
      "Name: count, dtype: int64\n"
     ]
    }
   ],
   "source": [
    "colonnes_a_analyser = [\n",
    "    'Type de problème',\n",
    "    'Score de sentiment',\n",
    "    'Émotion détectée',\n",
    "    'Connection Type',\n",
    "    'Customer Type'\n",
    "]\n",
    "\n",
    "for col in colonnes_a_analyser:\n",
    "    print(f\"\\n📊 Valeurs les plus fréquentes dans la colonne : {col}\")\n",
    "    print(df_net[col].value_counts(dropna=False))  # dropna=False inclut les NaN\n"
   ]
  },
  {
   "cell_type": "markdown",
   "id": "7ce30c59-a88a-49a8-8102-f2fc467c5810",
   "metadata": {},
   "source": [
    "## remplir la colonne \" Type de problème \"\n",
    "------------------"
   ]
  },
  {
   "cell_type": "code",
   "execution_count": 30,
   "id": "ba3b399b-e575-4044-ae70-2756183e5338",
   "metadata": {},
   "outputs": [
    {
     "name": "stdout",
     "output_type": "stream",
     "text": [
      "['Stabilité' 'Service client' 'Couverture' 'Débit' 'Autre' nan\n",
      " 'Pas de problème' 'Problème Application']\n"
     ]
    }
   ],
   "source": [
    "print(df_net['Type de problème'].unique())"
   ]
  },
  {
   "cell_type": "code",
   "execution_count": 31,
   "id": "c0a19b6d-3294-495f-b21c-20e6c69a96f1",
   "metadata": {},
   "outputs": [],
   "source": [
    "# Remplacer les fausses valeurs manquantes par de vrais NaN\n",
    "df_net['Type de problème'] = df_net['Type de problème'].replace(['nan', 'NaN'], np.nan)\n",
    "df_net['Type de problème'] = df_net['Type de problème'].replace(r'^\\s*$', np.nan, regex=True)"
   ]
  },
  {
   "cell_type": "code",
   "execution_count": 32,
   "id": "774107c6-877a-48f1-a2a6-36bfcfb6cda8",
   "metadata": {},
   "outputs": [],
   "source": [
    "# Fonction de remplissage\n",
    "def remplir_nan_aleatoirement(df_net, col):\n",
    "    valeurs_existantes = df_net[col].dropna()\n",
    "    freqs = valeurs_existantes.value_counts(normalize=True)\n",
    "    n_nan = df_net[col].isna().sum()\n",
    "    valeurs_remplacement = np.random.choice(freqs.index, size=n_nan, p=freqs.values)\n",
    "    df_net.loc[df_net[col].isna(), col] = valeurs_remplacement\n",
    "    return df_net\n",
    "\n",
    "# Application\n",
    "df_net = remplir_nan_aleatoirement(df_net, 'Type de problème')"
   ]
  },
  {
   "cell_type": "code",
   "execution_count": 33,
   "id": "2eba5e9f-ddf4-4a53-bc82-1840327366b1",
   "metadata": {},
   "outputs": [
    {
     "name": "stdout",
     "output_type": "stream",
     "text": [
      "Type de problème\n",
      "Service client          506\n",
      "Stabilité               312\n",
      "Couverture              223\n",
      "Débit                   212\n",
      "Autre                   177\n",
      "Problème Application     38\n",
      "Pas de problème          20\n",
      "Name: count, dtype: int64\n"
     ]
    }
   ],
   "source": [
    "# Vérification\n",
    "print(df_net['Type de problème'].value_counts(dropna=False))"
   ]
  },
  {
   "cell_type": "markdown",
   "id": "3e23a51e-8ba3-4112-9c81-909703589532",
   "metadata": {},
   "source": [
    "## remplir la colonne \" Score de sentiment \"\n",
    "-----------------------"
   ]
  },
  {
   "cell_type": "code",
   "execution_count": 35,
   "id": "a385b137-3e69-4ed2-8d31-721ec2d062c3",
   "metadata": {
    "scrolled": true
   },
   "outputs": [],
   "source": [
    "df_net['Score de sentiment'] = df_net['Score de sentiment'].replace(['nan', 'NaN'], np.nan)\n",
    "df_net['Score de sentiment'] = df_net['Score de sentiment'].replace(r'^\\s*$', np.nan, regex=True)\n"
   ]
  },
  {
   "cell_type": "code",
   "execution_count": 36,
   "id": "960641e0-8bd7-4404-bf68-54f05fdd9e8a",
   "metadata": {},
   "outputs": [],
   "source": [
    "def remplir_nan_aleatoirement(df_net, col):\n",
    "    valeurs_existantes = df_net[col].dropna()\n",
    "    freqs = valeurs_existantes.value_counts(normalize=True)\n",
    "    n_nan = df_net[col].isna().sum()\n",
    "    valeurs_remplacement = np.random.choice(freqs.index, size=n_nan, p=freqs.values)\n",
    "    df_net.loc[df_net[col].isna(), col] = valeurs_remplacement\n",
    "    return df_net\n"
   ]
  },
  {
   "cell_type": "code",
   "execution_count": 37,
   "id": "b30fba4a-1e34-4dba-9198-787415af2582",
   "metadata": {},
   "outputs": [],
   "source": [
    "df_net = remplir_nan_aleatoirement(df_net, 'Score de sentiment')"
   ]
  },
  {
   "cell_type": "code",
   "execution_count": 38,
   "id": "82c69c39-77a1-4a0a-bd92-78ea62b8131c",
   "metadata": {},
   "outputs": [
    {
     "name": "stdout",
     "output_type": "stream",
     "text": [
      "Score de sentiment\n",
      "Négatif    961\n",
      "Positif    291\n",
      "Neutre     236\n",
      "Name: count, dtype: int64\n"
     ]
    }
   ],
   "source": [
    "print(df_net['Score de sentiment'].value_counts())"
   ]
  },
  {
   "cell_type": "code",
   "execution_count": 39,
   "id": "eaefdec3-d292-44f6-b6ef-a9d2de642d43",
   "metadata": {},
   "outputs": [
    {
     "name": "stdout",
     "output_type": "stream",
     "text": [
      "<class 'pandas.core.frame.DataFrame'>\n",
      "RangeIndex: 1488 entries, 0 to 1487\n",
      "Data columns (total 19 columns):\n",
      " #   Column                Non-Null Count  Dtype         \n",
      "---  ------                --------------  -----         \n",
      " 0   id_client             1488 non-null   int64         \n",
      " 1   Numéro Client         200 non-null    float64       \n",
      " 2   Age                   200 non-null    object        \n",
      " 3   Genre                 900 non-null    object        \n",
      " 4   Date de retour        1488 non-null   datetime64[ns]\n",
      " 5   Langue                1488 non-null   object        \n",
      " 6   Avis Client           1486 non-null   object        \n",
      " 7   Note                  799 non-null    float64       \n",
      " 8   Type de problème      1488 non-null   object        \n",
      " 9   Localisation          200 non-null    object        \n",
      " 10  Score de sentiment    1488 non-null   object        \n",
      " 11  Émotion détectée      200 non-null    object        \n",
      " 12  Probabilité de churn  200 non-null    float64       \n",
      " 13  Résumé de l’avis      198 non-null    object        \n",
      " 14  Connection Type       200 non-null    object        \n",
      " 15  Customer Type         200 non-null    object        \n",
      " 16  Customer Tenure       200 non-null    object        \n",
      " 17  Tarif nom (Forfait)   200 non-null    object        \n",
      " 18  Segment Client        200 non-null    object        \n",
      "dtypes: datetime64[ns](1), float64(3), int64(1), object(14)\n",
      "memory usage: 221.0+ KB\n"
     ]
    }
   ],
   "source": [
    "df_net.info()"
   ]
  },
  {
   "cell_type": "markdown",
   "id": "b2c27f5c-e3ff-4b31-9dac-7be08b2d0dd8",
   "metadata": {},
   "source": [
    "## Remplir la colonne Émotion détectée par rapport au commentaire dans Score de sentiment\n",
    "----------"
   ]
  },
  {
   "cell_type": "markdown",
   "id": "06923131-f544-42c8-bd0e-48a85f2f0b32",
   "metadata": {},
   "source": [
    "## Objectif\n",
    "* Score de sentiment\t      Émotion détectée\n",
    "*    Positif\t                      Joie\n",
    "*    Négatif\t                     Colère\n",
    "*    Neutre\t                   Légère inquiétude"
   ]
  },
  {
   "cell_type": "code",
   "execution_count": 42,
   "id": "2f92f480-9d42-4d38-9cb6-d3346357d18e",
   "metadata": {},
   "outputs": [],
   "source": [
    "def remplir_emotion_depuis_score(df_net, col_score, col_emotion):\n",
    "    correspondance = {\n",
    "        'Positif': 'Joie',\n",
    "        'Négatif': 'Colère',\n",
    "        'Neutre': 'Légère inquiétude'\n",
    "    }\n",
    "\n",
    "    mask_nan = df_net[col_emotion].isna()\n",
    "    df_net.loc[mask_nan, col_emotion] = df_net.loc[mask_nan, col_score].map(correspondance)\n",
    "\n",
    "    return df_net\n"
   ]
  },
  {
   "cell_type": "code",
   "execution_count": 43,
   "id": "7d144262-e214-44a1-9fa0-e9946b5506be",
   "metadata": {},
   "outputs": [],
   "source": [
    "df_net = remplir_emotion_depuis_score(df_net, 'Score de sentiment', 'Émotion détectée')"
   ]
  },
  {
   "cell_type": "code",
   "execution_count": 44,
   "id": "ca4bbe40-616a-4b60-ae03-2a15f96d550a",
   "metadata": {},
   "outputs": [
    {
     "name": "stdout",
     "output_type": "stream",
     "text": [
      "Émotion détectée\n",
      "Colère               961\n",
      "Joie                 291\n",
      "Légère inquiétude    236\n",
      "Name: count, dtype: int64\n"
     ]
    }
   ],
   "source": [
    "print(df_net['Émotion détectée'].value_counts())"
   ]
  },
  {
   "cell_type": "markdown",
   "id": "d6dabfab-d512-4e24-9ed6-9ec998dd7dd9",
   "metadata": {},
   "source": [
    "##  Remplissage par la catégorie la plus fréquente (mode) pour la colonne \"Connection Type \"\n",
    "------------"
   ]
  },
  {
   "cell_type": "code",
   "execution_count": 46,
   "id": "d4244c8e-2af0-42e1-9895-3d6eab29be93",
   "metadata": {},
   "outputs": [],
   "source": [
    "df_net['Connection Type'] = df_net['Connection Type'].replace(['nan', 'NaN', ''], np.nan)"
   ]
  },
  {
   "cell_type": "code",
   "execution_count": 47,
   "id": "00980b42-6c69-49f7-b08b-6c0c87d4ab23",
   "metadata": {},
   "outputs": [],
   "source": [
    "if not df_net['Connection Type'].dropna().empty:\n",
    "    mode_val = df_net['Connection Type'].mode()[0]\n",
    "    df_net['Connection Type'] = df_net['Connection Type'].fillna(mode_val)\n",
    "\n",
    "else:\n",
    "    print(\"Aucune valeur non nulle dans 'Connection Type' pour calculer le mode.\")"
   ]
  },
  {
   "cell_type": "code",
   "execution_count": 48,
   "id": "cbb5952d-9e76-450c-90f0-6f6a3a9bfcad",
   "metadata": {},
   "outputs": [
    {
     "name": "stdout",
     "output_type": "stream",
     "text": [
      "['Prepaid ' 'Paid' 'Hybrid']\n"
     ]
    }
   ],
   "source": [
    "print(df_net['Connection Type'].unique())"
   ]
  },
  {
   "cell_type": "markdown",
   "id": "17f31e50-26be-45ac-ab7a-c6e228ce3beb",
   "metadata": {},
   "source": [
    "## Remplir la colonne \" Customer Type \" par la mode \n",
    "---------"
   ]
  },
  {
   "cell_type": "code",
   "execution_count": 50,
   "id": "f35755ed-0c00-4ef9-b414-48131ac4a91e",
   "metadata": {},
   "outputs": [],
   "source": [
    "mode_val = df_net['Customer Type'].mode()[0]\n",
    "df_net['Customer Type'] = df_net['Customer Type'].fillna(mode_val)"
   ]
  },
  {
   "cell_type": "code",
   "execution_count": 51,
   "id": "4633362e-1a21-40e8-9e62-c20e46f8924d",
   "metadata": {},
   "outputs": [
    {
     "name": "stdout",
     "output_type": "stream",
     "text": [
      "['B2B' 'B2C']\n"
     ]
    }
   ],
   "source": [
    "print(df_net['Customer Type'].unique())"
   ]
  },
  {
   "cell_type": "code",
   "execution_count": 52,
   "id": "4584d57c-eaa7-4e01-93e7-dfddf2c5c8db",
   "metadata": {},
   "outputs": [
    {
     "name": "stdout",
     "output_type": "stream",
     "text": [
      "Customer Type\n",
      "B2C    1390\n",
      "B2B      98\n",
      "Name: count, dtype: int64\n"
     ]
    }
   ],
   "source": [
    "print(df_net['Customer Type'].value_counts())"
   ]
  },
  {
   "cell_type": "code",
   "execution_count": 53,
   "id": "0184e3b4-bfce-4e03-bb9a-92ac3b741aac",
   "metadata": {},
   "outputs": [
    {
     "name": "stdout",
     "output_type": "stream",
     "text": [
      "<class 'pandas.core.frame.DataFrame'>\n",
      "RangeIndex: 1488 entries, 0 to 1487\n",
      "Data columns (total 19 columns):\n",
      " #   Column                Non-Null Count  Dtype         \n",
      "---  ------                --------------  -----         \n",
      " 0   id_client             1488 non-null   int64         \n",
      " 1   Numéro Client         200 non-null    float64       \n",
      " 2   Age                   200 non-null    object        \n",
      " 3   Genre                 900 non-null    object        \n",
      " 4   Date de retour        1488 non-null   datetime64[ns]\n",
      " 5   Langue                1488 non-null   object        \n",
      " 6   Avis Client           1486 non-null   object        \n",
      " 7   Note                  799 non-null    float64       \n",
      " 8   Type de problème      1488 non-null   object        \n",
      " 9   Localisation          200 non-null    object        \n",
      " 10  Score de sentiment    1488 non-null   object        \n",
      " 11  Émotion détectée      1488 non-null   object        \n",
      " 12  Probabilité de churn  200 non-null    float64       \n",
      " 13  Résumé de l’avis      198 non-null    object        \n",
      " 14  Connection Type       1488 non-null   object        \n",
      " 15  Customer Type         1488 non-null   object        \n",
      " 16  Customer Tenure       200 non-null    object        \n",
      " 17  Tarif nom (Forfait)   200 non-null    object        \n",
      " 18  Segment Client        200 non-null    object        \n",
      "dtypes: datetime64[ns](1), float64(3), int64(1), object(14)\n",
      "memory usage: 221.0+ KB\n"
     ]
    }
   ],
   "source": [
    "df_net.info()"
   ]
  },
  {
   "cell_type": "markdown",
   "id": "8066dd3c-7f25-4f12-b240-b8983b4a7517",
   "metadata": {},
   "source": [
    "--------------------------------"
   ]
  },
  {
   "cell_type": "markdown",
   "id": "8908fea0-7f53-485b-b2d8-2c2e783ffeb0",
   "metadata": {},
   "source": [
    "## remplir de la colonne \" Langue \" et \"Genre\" par la mode \n",
    "---------"
   ]
  },
  {
   "cell_type": "code",
   "execution_count": 56,
   "id": "64be0f01-6715-4ba5-b47c-f793144e8781",
   "metadata": {},
   "outputs": [],
   "source": [
    "for col in ['Langue']:\n",
    "    mode_val = df_net[col].mode()[0]\n",
    "    df_net[col] = df_net[col].fillna(mode_val)"
   ]
  },
  {
   "cell_type": "code",
   "execution_count": 57,
   "id": "6e87a5ff-b1dc-4043-b499-54bd646e1ab7",
   "metadata": {},
   "outputs": [],
   "source": [
    "df_net['Langue'] = df_net['Langue'].replace({\n",
    "    'fr': 'Français',\n",
    "    'Fr': 'Français',\n",
    "    'Français': 'Français',\n",
    "    'en': 'Anglais',\n",
    "    'Anglais': 'Anglais',\n",
    "    'ar': 'Arabe',\n",
    "    'Ar': 'Arabe',\n",
    "    'Arabe': 'Arabe'\n",
    "})"
   ]
  },
  {
   "cell_type": "code",
   "execution_count": 58,
   "id": "c6e2ea1c-ef40-4c69-87f1-e83fffffcb64",
   "metadata": {},
   "outputs": [
    {
     "name": "stdout",
     "output_type": "stream",
     "text": [
      "Langue\n",
      "Anglais     658\n",
      "Arabe       519\n",
      "Français    311\n",
      "Name: count, dtype: int64\n"
     ]
    }
   ],
   "source": [
    "# vérification\n",
    "print(df_net['Langue'].value_counts(dropna=False))"
   ]
  },
  {
   "cell_type": "code",
   "execution_count": 59,
   "id": "00b4f7a7-938d-47e6-9e87-cf22776205c8",
   "metadata": {},
   "outputs": [
    {
     "name": "stdout",
     "output_type": "stream",
     "text": [
      "Genre\n",
      "Homme    631\n",
      "NaN      588\n",
      "Femme    223\n",
      "femme     46\n",
      "Name: count, dtype: int64\n"
     ]
    }
   ],
   "source": [
    "print(df_net['Genre'].value_counts(dropna=False))"
   ]
  },
  {
   "cell_type": "code",
   "execution_count": 60,
   "id": "27e2be32-2975-4be8-92a2-870fc0ecaab4",
   "metadata": {},
   "outputs": [],
   "source": [
    "df_net['Genre'] = df_net['Genre'].replace({\n",
    "    'femme' : 'Femme'\n",
    "})"
   ]
  },
  {
   "cell_type": "code",
   "execution_count": 61,
   "id": "c4d1f0b9-939f-488b-bd59-92f61c792474",
   "metadata": {},
   "outputs": [
    {
     "name": "stdout",
     "output_type": "stream",
     "text": [
      "Genre\n",
      "Homme    631\n",
      "NaN      588\n",
      "Femme    269\n",
      "Name: count, dtype: int64\n"
     ]
    }
   ],
   "source": [
    "print(df_net['Genre'].value_counts(dropna=False))"
   ]
  },
  {
   "cell_type": "code",
   "execution_count": 62,
   "id": "5c813bc7-2e14-4313-ac58-4542091f388e",
   "metadata": {},
   "outputs": [],
   "source": [
    "mode_val = df_net['Genre'].mode()[0]\n",
    "df_net['Genre'] = df_net['Genre'].fillna(mode_val)"
   ]
  },
  {
   "cell_type": "code",
   "execution_count": 63,
   "id": "448efe47-a068-4c11-aa75-f83b581db4be",
   "metadata": {},
   "outputs": [
    {
     "name": "stdout",
     "output_type": "stream",
     "text": [
      "Genre\n",
      "Homme    1219\n",
      "Femme     269\n",
      "Name: count, dtype: int64\n"
     ]
    }
   ],
   "source": [
    "print(df_net['Genre'].value_counts(dropna=False))"
   ]
  },
  {
   "cell_type": "markdown",
   "id": "56546742-f19f-45fa-94ff-844ad215faff",
   "metadata": {},
   "source": [
    "## la colonne Age "
   ]
  },
  {
   "cell_type": "code",
   "execution_count": 65,
   "id": "052e49dc-96f2-4cc4-aa58-5e105c0f36b1",
   "metadata": {},
   "outputs": [
    {
     "name": "stdout",
     "output_type": "stream",
     "text": [
      "['18-25' '20-35' '50+' '36-50' '16-20' '25-35' '40-50' '26-25' '26-37'\n",
      " '26-38' '26-39' '26-40' '26-41' '35-40' '35-41' '35-42' '35-43' '35-44'\n",
      " '35-45' '16-25' '25-30' '26-35' nan]\n"
     ]
    }
   ],
   "source": [
    "print(df_net['Age'].unique())"
   ]
  },
  {
   "cell_type": "code",
   "execution_count": 66,
   "id": "58571d68-ad3a-41ee-831c-e8a547d62b77",
   "metadata": {},
   "outputs": [],
   "source": [
    "# Étape 1 : Fonction pour regrouper les tranches d’âge\n",
    "def regrouper_age(age):\n",
    "    if age in ['16-20', '16-25', '18-25']:\n",
    "        return '15-25'\n",
    "    elif age in ['20-35', '25-30', '25-35', '26-25', '26-35', '26-37', '26-38', '26-39', '26-40', '26-41']:\n",
    "        return '25-35'\n",
    "    elif age in ['35-40', '35-41', '35-42', '35-43', '35-44', '35-45']:\n",
    "        return '35-45'\n",
    "    elif age in ['36-50', '40-50', '45-55']:\n",
    "        return '45-55'\n",
    "    elif age == '50+':\n",
    "        return '55+'\n",
    "    else:\n",
    "        return np.nan\n"
   ]
  },
  {
   "cell_type": "code",
   "execution_count": 67,
   "id": "838be7ed-fea8-492b-88b6-05d29314438d",
   "metadata": {},
   "outputs": [],
   "source": [
    "# Étape 2 : Appliquer le regroupement\n",
    "df_net['Age'] = df_net['Age'].apply(regrouper_age)"
   ]
  },
  {
   "cell_type": "code",
   "execution_count": 68,
   "id": "d96422a4-7b3e-41f3-8f0a-2cfd9ef6c415",
   "metadata": {},
   "outputs": [],
   "source": [
    "# Étape 3 : Remplir les NaN avec la catégorie la plus fréquente (temporairement)\n",
    "mode_val = df_net['Age'].mode()[0]\n",
    "df_net['Age'] = df_net['Age'].fillna(mode_val)"
   ]
  },
  {
   "cell_type": "code",
   "execution_count": 69,
   "id": "3910a7ed-538a-41b6-ad01-018d3c090f81",
   "metadata": {},
   "outputs": [],
   "source": [
    "# Étape 4 : Réduire la proportion de '55+' et augmenter les jeunes\n",
    "nb_55_plus = df_net[df_net['Age'] == '55+'].shape[0]"
   ]
  },
  {
   "cell_type": "code",
   "execution_count": 70,
   "id": "0e3d1ea6-2c72-40d5-8690-83d0fdc5b7f1",
   "metadata": {},
   "outputs": [],
   "source": [
    "# Choisir combien en modifier (ex: 60%)\n",
    "nb_a_remplacer = int(nb_55_plus * 0.6)\n",
    "\n",
    "# Sélectionner aléatoirement ces lignes\n",
    "indices_a_modifier = df_net[df_net['Age'] == '55+'].sample(nb_a_remplacer, random_state=42).index\n",
    "\n",
    "# Répartition ciblée : majoritairement jeunes\n",
    "nouvelles_valeurs = np.random.choice(\n",
    "    ['15-25', '25-35', '35-45', '45-55'],\n",
    "    size=nb_a_remplacer,\n",
    "    p=[0.4, 0.3, 0.2, 0.1]\n",
    ")"
   ]
  },
  {
   "cell_type": "code",
   "execution_count": 71,
   "id": "c8236247-cccf-4dca-a1c6-5a7d7f20113b",
   "metadata": {},
   "outputs": [],
   "source": [
    "# Remplacer dans le DataFrame\n",
    "df_net.loc[indices_a_modifier, 'Age'] = nouvelles_valeurs"
   ]
  },
  {
   "cell_type": "code",
   "execution_count": 72,
   "id": "43657c8a-1e50-4882-a2df-d97dc39ccd4e",
   "metadata": {},
   "outputs": [
    {
     "name": "stdout",
     "output_type": "stream",
     "text": [
      "Age\n",
      "55+      538\n",
      "15-25    376\n",
      "25-35    297\n",
      "35-45    182\n",
      "45-55     95\n",
      "Name: count, dtype: int64\n"
     ]
    }
   ],
   "source": [
    "print(df_net['Age'].value_counts(dropna=False))"
   ]
  },
  {
   "cell_type": "markdown",
   "id": "1fa18887-26ff-402c-b6db-edc5fe30d70e",
   "metadata": {},
   "source": [
    "## Localisation \n",
    "----------"
   ]
  },
  {
   "cell_type": "code",
   "execution_count": 74,
   "id": "00e5d123-3ebb-4c79-bdf0-58e5481c43e0",
   "metadata": {},
   "outputs": [
    {
     "name": "stdout",
     "output_type": "stream",
     "text": [
      "['Sousse' 'Tunis' 'Nabeul' 'Sfax' 'Bizerte' 'gabes' 'sfax' nan]\n"
     ]
    }
   ],
   "source": [
    "print(df_net['Localisation'].unique())"
   ]
  },
  {
   "cell_type": "code",
   "execution_count": 75,
   "id": "4a5ffa34-2042-47a7-bc8d-5d05e99bcc56",
   "metadata": {},
   "outputs": [],
   "source": [
    "gouvernorats_tunisie = [\n",
    "    'Tunis', 'Ariana', 'Ben Arous', 'Manouba', 'Nabeul', 'Zaghouan', 'Bizerte', 'Beja',\n",
    "    'Jendouba', 'Kef', 'Siliana', 'Kairouan', 'Kasserine', 'Sidi Bouzid', 'Sousse',\n",
    "    'Monastir', 'Mahdia', 'Sfax', 'Gabès', 'Médenine', 'Tataouine', 'Gafsa',\n",
    "    'Tozeur', 'Kebili'\n",
    "]\n"
   ]
  },
  {
   "cell_type": "code",
   "execution_count": 76,
   "id": "e9065f0c-bb89-4e69-aa2d-1adb492d6014",
   "metadata": {},
   "outputs": [],
   "source": [
    "df_net['Localisation '] = df_net['Localisation'].str.capitalize()"
   ]
  },
  {
   "cell_type": "code",
   "execution_count": 77,
   "id": "3db364bc-5e62-4dfc-acb3-b96fefae5352",
   "metadata": {},
   "outputs": [],
   "source": [
    "def remplir_localisation_aleatoire(df_net, col, gouvernorats):\n",
    "    n_nan = df_net[col].isna().sum()\n",
    "    valeurs_random = np.random.choice(gouvernorats, size=n_nan)\n",
    "    df_net.loc[df_net[col].isna(), col] = valeurs_random\n",
    "    return df_net\n",
    "\n",
    "df_net = remplir_localisation_aleatoire(df_net, 'Localisation', gouvernorats_tunisie)"
   ]
  },
  {
   "cell_type": "code",
   "execution_count": 78,
   "id": "2be2a02d-0964-46ea-ac3f-e5a261eeae84",
   "metadata": {},
   "outputs": [],
   "source": [
    "df_net['Localisation'] = df_net['Localisation'].str.upper()"
   ]
  },
  {
   "cell_type": "code",
   "execution_count": 79,
   "id": "d3a53b5a-bda8-4eb7-a1b5-a09baba2ce1d",
   "metadata": {},
   "outputs": [
    {
     "name": "stdout",
     "output_type": "stream",
     "text": [
      "Localisation\n",
      "NABEUL         110\n",
      "BIZERTE         95\n",
      "SOUSSE          91\n",
      "TUNIS           82\n",
      "SFAX            79\n",
      "GABÈS           62\n",
      "KEBILI          59\n",
      "KASSERINE       59\n",
      "TOZEUR          57\n",
      "MAHDIA          56\n",
      "KAIROUAN        56\n",
      "MÉDENINE        55\n",
      "MANOUBA         55\n",
      "ARIANA          54\n",
      "SILIANA         54\n",
      "SIDI BOUZID     53\n",
      "MONASTIR        53\n",
      "TATAOUINE       51\n",
      "KEF             51\n",
      "ZAGHOUAN        50\n",
      "BEJA            50\n",
      "JENDOUBA        50\n",
      "BEN AROUS       49\n",
      "GAFSA           47\n",
      "GABES           10\n",
      "Name: count, dtype: int64\n"
     ]
    }
   ],
   "source": [
    "print(df_net['Localisation'].value_counts())"
   ]
  },
  {
   "cell_type": "code",
   "execution_count": null,
   "id": "f50725d2-cf1e-4abd-baf5-4f0a1a074b5c",
   "metadata": {},
   "outputs": [],
   "source": []
  },
  {
   "cell_type": "code",
   "execution_count": null,
   "id": "7dadff38-3a37-4835-a648-10d5224b1cdd",
   "metadata": {},
   "outputs": [],
   "source": []
  },
  {
   "cell_type": "code",
   "execution_count": null,
   "id": "823649e0-cd83-49c0-a7b4-716b86eebf65",
   "metadata": {},
   "outputs": [],
   "source": []
  },
  {
   "cell_type": "code",
   "execution_count": 80,
   "id": "4fb979d7-7680-42aa-915e-218f99bc8fe6",
   "metadata": {},
   "outputs": [
    {
     "data": {
      "text/html": [
       "<div>\n",
       "<style scoped>\n",
       "    .dataframe tbody tr th:only-of-type {\n",
       "        vertical-align: middle;\n",
       "    }\n",
       "\n",
       "    .dataframe tbody tr th {\n",
       "        vertical-align: top;\n",
       "    }\n",
       "\n",
       "    .dataframe thead th {\n",
       "        text-align: right;\n",
       "    }\n",
       "</style>\n",
       "<table border=\"1\" class=\"dataframe\">\n",
       "  <thead>\n",
       "    <tr style=\"text-align: right;\">\n",
       "      <th></th>\n",
       "      <th>id_client</th>\n",
       "      <th>Numéro Client</th>\n",
       "      <th>Age</th>\n",
       "      <th>Genre</th>\n",
       "      <th>Date de retour</th>\n",
       "      <th>Langue</th>\n",
       "      <th>Avis Client</th>\n",
       "      <th>Note</th>\n",
       "      <th>Type de problème</th>\n",
       "      <th>Localisation</th>\n",
       "      <th>Score de sentiment</th>\n",
       "      <th>Émotion détectée</th>\n",
       "      <th>Probabilité de churn</th>\n",
       "      <th>Résumé de l’avis</th>\n",
       "      <th>Connection Type</th>\n",
       "      <th>Customer Type</th>\n",
       "      <th>Customer Tenure</th>\n",
       "      <th>Tarif nom (Forfait)</th>\n",
       "      <th>Segment Client</th>\n",
       "      <th>Localisation</th>\n",
       "    </tr>\n",
       "  </thead>\n",
       "  <tbody>\n",
       "    <tr>\n",
       "      <th>0</th>\n",
       "      <td>1</td>\n",
       "      <td>24737244.0</td>\n",
       "      <td>15-25</td>\n",
       "      <td>Homme</td>\n",
       "      <td>2025-01-10</td>\n",
       "      <td>Anglais</td>\n",
       "      <td>Excellent 5G coverage, very satisfied!</td>\n",
       "      <td>5.0</td>\n",
       "      <td>Stabilité</td>\n",
       "      <td>SOUSSE</td>\n",
       "      <td>Positif</td>\n",
       "      <td>Joie</td>\n",
       "      <td>0.5</td>\n",
       "      <td>Excellent 5G coverage…</td>\n",
       "      <td>Prepaid</td>\n",
       "      <td>B2B</td>\n",
       "      <td>more than 15 year</td>\n",
       "      <td>Offre 1000</td>\n",
       "      <td>Entreprise</td>\n",
       "      <td>Sousse</td>\n",
       "    </tr>\n",
       "    <tr>\n",
       "      <th>1</th>\n",
       "      <td>2</td>\n",
       "      <td>25876567.0</td>\n",
       "      <td>25-35</td>\n",
       "      <td>Femme</td>\n",
       "      <td>2025-03-07</td>\n",
       "      <td>Anglais</td>\n",
       "      <td>La couverture est excellente dans ma région.</td>\n",
       "      <td>5.0</td>\n",
       "      <td>Service client</td>\n",
       "      <td>TUNIS</td>\n",
       "      <td>Positif</td>\n",
       "      <td>Joie</td>\n",
       "      <td>0.2</td>\n",
       "      <td>5G works well but...</td>\n",
       "      <td>Paid</td>\n",
       "      <td>B2C</td>\n",
       "      <td>less than 10 year</td>\n",
       "      <td>Offre 1000</td>\n",
       "      <td>High value</td>\n",
       "      <td>Tunis</td>\n",
       "    </tr>\n",
       "    <tr>\n",
       "      <th>2</th>\n",
       "      <td>3</td>\n",
       "      <td>22656507.0</td>\n",
       "      <td>35-45</td>\n",
       "      <td>Homme</td>\n",
       "      <td>2025-02-05</td>\n",
       "      <td>Arabe</td>\n",
       "      <td>تغطية 5G ممتازة، أنا راضٍ جدًا!</td>\n",
       "      <td>5.0</td>\n",
       "      <td>Couverture</td>\n",
       "      <td>TUNIS</td>\n",
       "      <td>Positif</td>\n",
       "      <td>Joie</td>\n",
       "      <td>0.2</td>\n",
       "      <td>تغطية 5G ممتازة، أنا…</td>\n",
       "      <td>Paid</td>\n",
       "      <td>B2B</td>\n",
       "      <td>0 to 3 months</td>\n",
       "      <td>Offre 1000</td>\n",
       "      <td>High value</td>\n",
       "      <td>Tunis</td>\n",
       "    </tr>\n",
       "    <tr>\n",
       "      <th>3</th>\n",
       "      <td>4</td>\n",
       "      <td>25987154.0</td>\n",
       "      <td>45-55</td>\n",
       "      <td>Femme</td>\n",
       "      <td>2025-03-18</td>\n",
       "      <td>Anglais</td>\n",
       "      <td>كنكسيون خايبة</td>\n",
       "      <td>1.0</td>\n",
       "      <td>Stabilité</td>\n",
       "      <td>SOUSSE</td>\n",
       "      <td>Négatif</td>\n",
       "      <td>Colère</td>\n",
       "      <td>0.9</td>\n",
       "      <td>5G works well but...</td>\n",
       "      <td>Prepaid</td>\n",
       "      <td>B2B</td>\n",
       "      <td>more than 2 years</td>\n",
       "      <td>Offre 1000</td>\n",
       "      <td>High value</td>\n",
       "      <td>Sousse</td>\n",
       "    </tr>\n",
       "    <tr>\n",
       "      <th>4</th>\n",
       "      <td>5</td>\n",
       "      <td>20546148.0</td>\n",
       "      <td>15-25</td>\n",
       "      <td>Homme</td>\n",
       "      <td>2025-04-09</td>\n",
       "      <td>Français</td>\n",
       "      <td>La 5G fonctionne bien mais parfois instable.</td>\n",
       "      <td>4.0</td>\n",
       "      <td>Service client</td>\n",
       "      <td>NABEUL</td>\n",
       "      <td>Neutre</td>\n",
       "      <td>Légère inquiétude</td>\n",
       "      <td>0.1</td>\n",
       "      <td>La 5G fonctionne bien mais…</td>\n",
       "      <td>Paid</td>\n",
       "      <td>B2B</td>\n",
       "      <td>0 to 6 months</td>\n",
       "      <td>Offre 1000</td>\n",
       "      <td>High value</td>\n",
       "      <td>Nabeul</td>\n",
       "    </tr>\n",
       "  </tbody>\n",
       "</table>\n",
       "</div>"
      ],
      "text/plain": [
       "   id_client  Numéro Client    Age  Genre Date de retour    Langue  \\\n",
       "0          1     24737244.0  15-25  Homme     2025-01-10   Anglais   \n",
       "1          2     25876567.0  25-35  Femme     2025-03-07   Anglais   \n",
       "2          3     22656507.0  35-45  Homme     2025-02-05     Arabe   \n",
       "3          4     25987154.0  45-55  Femme     2025-03-18   Anglais   \n",
       "4          5     20546148.0  15-25  Homme     2025-04-09  Français   \n",
       "\n",
       "                                    Avis Client  Note Type de problème  \\\n",
       "0        Excellent 5G coverage, very satisfied!   5.0        Stabilité   \n",
       "1  La couverture est excellente dans ma région.   5.0   Service client   \n",
       "2               تغطية 5G ممتازة، أنا راضٍ جدًا!   5.0       Couverture   \n",
       "3                                 كنكسيون خايبة   1.0        Stabilité   \n",
       "4  La 5G fonctionne bien mais parfois instable.   4.0   Service client   \n",
       "\n",
       "  Localisation Score de sentiment   Émotion détectée  Probabilité de churn  \\\n",
       "0       SOUSSE            Positif               Joie                   0.5   \n",
       "1        TUNIS            Positif               Joie                   0.2   \n",
       "2        TUNIS            Positif               Joie                   0.2   \n",
       "3       SOUSSE            Négatif             Colère                   0.9   \n",
       "4       NABEUL             Neutre  Légère inquiétude                   0.1   \n",
       "\n",
       "              Résumé de l’avis Connection Type Customer Type  \\\n",
       "0       Excellent 5G coverage…        Prepaid            B2B   \n",
       "1         5G works well but...            Paid           B2C   \n",
       "2        تغطية 5G ممتازة، أنا…            Paid           B2B   \n",
       "3         5G works well but...        Prepaid            B2B   \n",
       "4  La 5G fonctionne bien mais…            Paid           B2B   \n",
       "\n",
       "      Customer Tenure Tarif nom (Forfait) Segment Client Localisation   \n",
       "0   more than 15 year          Offre 1000    Entreprise         Sousse  \n",
       "1  less than 10 year           Offre 1000     High value         Tunis  \n",
       "2      0 to 3 months           Offre 1000     High value         Tunis  \n",
       "3   more than 2 years          Offre 1000     High value        Sousse  \n",
       "4       0 to 6 months          Offre 1000     High value        Nabeul  "
      ]
     },
     "execution_count": 80,
     "metadata": {},
     "output_type": "execute_result"
    }
   ],
   "source": [
    "df_net.head()"
   ]
  },
  {
   "cell_type": "code",
   "execution_count": 81,
   "id": "f35c7d32-862b-40b0-a763-2699fc147f0c",
   "metadata": {},
   "outputs": [],
   "source": [
    "df_net.drop(df_net.columns[19], axis=1, inplace=True)"
   ]
  },
  {
   "cell_type": "code",
   "execution_count": 82,
   "id": "ff510220-69d4-4d94-9b8c-011b904ffda7",
   "metadata": {},
   "outputs": [
    {
     "name": "stdout",
     "output_type": "stream",
     "text": [
      "<class 'pandas.core.frame.DataFrame'>\n",
      "RangeIndex: 1488 entries, 0 to 1487\n",
      "Data columns (total 19 columns):\n",
      " #   Column                Non-Null Count  Dtype         \n",
      "---  ------                --------------  -----         \n",
      " 0   id_client             1488 non-null   int64         \n",
      " 1   Numéro Client         200 non-null    float64       \n",
      " 2   Age                   1488 non-null   object        \n",
      " 3   Genre                 1488 non-null   object        \n",
      " 4   Date de retour        1488 non-null   datetime64[ns]\n",
      " 5   Langue                1488 non-null   object        \n",
      " 6   Avis Client           1486 non-null   object        \n",
      " 7   Note                  799 non-null    float64       \n",
      " 8   Type de problème      1488 non-null   object        \n",
      " 9   Localisation          1488 non-null   object        \n",
      " 10  Score de sentiment    1488 non-null   object        \n",
      " 11  Émotion détectée      1488 non-null   object        \n",
      " 12  Probabilité de churn  200 non-null    float64       \n",
      " 13  Résumé de l’avis      198 non-null    object        \n",
      " 14  Connection Type       1488 non-null   object        \n",
      " 15  Customer Type         1488 non-null   object        \n",
      " 16  Customer Tenure       200 non-null    object        \n",
      " 17  Tarif nom (Forfait)   200 non-null    object        \n",
      " 18  Segment Client        200 non-null    object        \n",
      "dtypes: datetime64[ns](1), float64(3), int64(1), object(14)\n",
      "memory usage: 221.0+ KB\n"
     ]
    }
   ],
   "source": [
    "df_net.info()"
   ]
  },
  {
   "cell_type": "markdown",
   "id": "97472c41-6239-45f1-abe9-40bf74fd7440",
   "metadata": {},
   "source": [
    "## Remplir la colonne \" Probabilité de churn \"\n",
    "-----------------"
   ]
  },
  {
   "cell_type": "code",
   "execution_count": 84,
   "id": "86fe0ff7-9b95-4ee2-ade4-9a99a5400d8e",
   "metadata": {},
   "outputs": [
    {
     "data": {
      "text/plain": [
       "1288"
      ]
     },
     "execution_count": 84,
     "metadata": {},
     "output_type": "execute_result"
    }
   ],
   "source": [
    "nombre_nan = df_net['Probabilité de churn'].isna().sum()\n",
    "nombre_nan"
   ]
  },
  {
   "cell_type": "code",
   "execution_count": 85,
   "id": "80612fd2-ca9f-4f58-ab33-ca788ddeaf34",
   "metadata": {},
   "outputs": [],
   "source": [
    "# Nettoyer la colonne 'Score de sentiment' pour éviter les erreurs\n",
    "df_net['Score de sentiment'] = df_net['Score de sentiment'].str.strip().str.lower()"
   ]
  },
  {
   "cell_type": "code",
   "execution_count": 86,
   "id": "b0ad7143-7e63-4ff5-8b3d-e1753f6d3398",
   "metadata": {},
   "outputs": [],
   "source": [
    "def generer_proba_churn(score_de_sentiment):\n",
    "    if score_de_sentiment == 'négatif':\n",
    "        return np.random.uniform(0.7, 1.0)\n",
    "    elif score_de_sentiment == 'neutre':\n",
    "        return np.random.uniform(0.4, 0.6)\n",
    "    elif score_de_sentiment == 'positif':\n",
    "        return np.random.uniform(0.0, 0.3)\n",
    "    else:\n",
    "        return np.nan"
   ]
  },
  {
   "cell_type": "code",
   "execution_count": 87,
   "id": "62428940-fe10-47d0-bafe-5c44286f6813",
   "metadata": {},
   "outputs": [],
   "source": [
    "# Masque pour sélectionner les lignes où 'Probabilité de churn' est NaN\n",
    "mask = df_net['Probabilité de churn'].isna()\n",
    "\n",
    "# Remplir uniquement ces lignes vides\n",
    "df_net.loc[mask, 'Probabilité de churn'] = df_net.loc[mask, 'Score de sentiment'].apply(generer_proba_churn)"
   ]
  },
  {
   "cell_type": "code",
   "execution_count": 88,
   "id": "36f92e78-9614-46f7-b4d0-28182e93a242",
   "metadata": {},
   "outputs": [
    {
     "name": "stdout",
     "output_type": "stream",
     "text": [
      "[0.5        0.2        0.9        ... 0.56536406 0.4643624  0.84947818]\n"
     ]
    }
   ],
   "source": [
    "print(df_net['Probabilité de churn'].unique())"
   ]
  },
  {
   "cell_type": "code",
   "execution_count": 89,
   "id": "4f193ca0-6e12-4a47-b247-1ef0535fee04",
   "metadata": {},
   "outputs": [
    {
     "data": {
      "text/plain": [
       "0"
      ]
     },
     "execution_count": 89,
     "metadata": {},
     "output_type": "execute_result"
    }
   ],
   "source": [
    "nombre_nan = df_net['Probabilité de churn'].isna().sum()\n",
    "nombre_nan"
   ]
  },
  {
   "cell_type": "code",
   "execution_count": 90,
   "id": "f412f258-6449-4948-8099-76ed1a87ec32",
   "metadata": {},
   "outputs": [
    {
     "name": "stdout",
     "output_type": "stream",
     "text": [
      "count    1488.000000\n",
      "mean        0.634229\n",
      "std         0.300576\n",
      "min         0.002555\n",
      "25%         0.432500\n",
      "50%         0.755564\n",
      "75%         0.877066\n",
      "max         0.999795\n",
      "Name: Probabilité de churn, dtype: float64\n"
     ]
    }
   ],
   "source": [
    "print(df_net['Probabilité de churn'].describe())"
   ]
  },
  {
   "cell_type": "code",
   "execution_count": 91,
   "id": "30702f18-a315-4958-8f8e-dac83333cd5d",
   "metadata": {},
   "outputs": [
    {
     "name": "stdout",
     "output_type": "stream",
     "text": [
      "['id_client', 'Numéro Client', 'Age', 'Genre', 'Date de retour', 'Langue', 'Avis Client', 'Note', 'Type de problème', 'Localisation', 'Score de sentiment', 'Émotion détectée', 'Probabilité de churn', 'Résumé de l’avis', 'Connection Type', 'Customer Type', 'Customer Tenure', 'Tarif nom (Forfait)', 'Segment Client']\n"
     ]
    }
   ],
   "source": [
    "print(df_net.columns.tolist())"
   ]
  },
  {
   "cell_type": "markdown",
   "id": "cb12d350-6afb-44b8-b571-71239446d1e5",
   "metadata": {},
   "source": [
    "## Modifier l'id client \n",
    "---------"
   ]
  },
  {
   "cell_type": "code",
   "execution_count": 93,
   "id": "7e4a9822-d9a9-4566-be7f-feea39c680bf",
   "metadata": {},
   "outputs": [
    {
     "name": "stdout",
     "output_type": "stream",
     "text": [
      "<class 'pandas.core.frame.DataFrame'>\n",
      "RangeIndex: 1488 entries, 0 to 1487\n",
      "Data columns (total 19 columns):\n",
      " #   Column                Non-Null Count  Dtype         \n",
      "---  ------                --------------  -----         \n",
      " 0   id_client             1488 non-null   int64         \n",
      " 1   Numéro Client         200 non-null    float64       \n",
      " 2   Age                   1488 non-null   object        \n",
      " 3   Genre                 1488 non-null   object        \n",
      " 4   Date de retour        1488 non-null   datetime64[ns]\n",
      " 5   Langue                1488 non-null   object        \n",
      " 6   Avis Client           1486 non-null   object        \n",
      " 7   Note                  799 non-null    float64       \n",
      " 8   Type de problème      1488 non-null   object        \n",
      " 9   Localisation          1488 non-null   object        \n",
      " 10  Score de sentiment    1488 non-null   object        \n",
      " 11  Émotion détectée      1488 non-null   object        \n",
      " 12  Probabilité de churn  1488 non-null   float64       \n",
      " 13  Résumé de l’avis      198 non-null    object        \n",
      " 14  Connection Type       1488 non-null   object        \n",
      " 15  Customer Type         1488 non-null   object        \n",
      " 16  Customer Tenure       200 non-null    object        \n",
      " 17  Tarif nom (Forfait)   200 non-null    object        \n",
      " 18  Segment Client        200 non-null    object        \n",
      "dtypes: datetime64[ns](1), float64(3), int64(1), object(14)\n",
      "memory usage: 221.0+ KB\n"
     ]
    }
   ],
   "source": [
    "df_net.info()"
   ]
  },
  {
   "cell_type": "code",
   "execution_count": 94,
   "id": "13e44458-6699-41f5-9600-3089c0c79df2",
   "metadata": {},
   "outputs": [
    {
     "ename": "IntCastingNaNError",
     "evalue": "Cannot convert non-finite values (NA or inf) to integer",
     "output_type": "error",
     "traceback": [
      "\u001b[1;31m---------------------------------------------------------------------------\u001b[0m",
      "\u001b[1;31mIntCastingNaNError\u001b[0m                        Traceback (most recent call last)",
      "Cell \u001b[1;32mIn[94], line 2\u001b[0m\n\u001b[0;32m      1\u001b[0m \u001b[38;5;66;03m# Convertir en entier proprement\u001b[39;00m\n\u001b[1;32m----> 2\u001b[0m df_net[\u001b[38;5;124m'\u001b[39m\u001b[38;5;124mNuméro Client\u001b[39m\u001b[38;5;124m'\u001b[39m] \u001b[38;5;241m=\u001b[39m df_net[\u001b[38;5;124m'\u001b[39m\u001b[38;5;124mNuméro Client\u001b[39m\u001b[38;5;124m'\u001b[39m]\u001b[38;5;241m.\u001b[39mastype(\u001b[38;5;28mint\u001b[39m)\n",
      "File \u001b[1;32m~\\anaconda3A\\Lib\\site-packages\\pandas\\core\\generic.py:6643\u001b[0m, in \u001b[0;36mNDFrame.astype\u001b[1;34m(self, dtype, copy, errors)\u001b[0m\n\u001b[0;32m   6637\u001b[0m     results \u001b[38;5;241m=\u001b[39m [\n\u001b[0;32m   6638\u001b[0m         ser\u001b[38;5;241m.\u001b[39mastype(dtype, copy\u001b[38;5;241m=\u001b[39mcopy, errors\u001b[38;5;241m=\u001b[39merrors) \u001b[38;5;28;01mfor\u001b[39;00m _, ser \u001b[38;5;129;01min\u001b[39;00m \u001b[38;5;28mself\u001b[39m\u001b[38;5;241m.\u001b[39mitems()\n\u001b[0;32m   6639\u001b[0m     ]\n\u001b[0;32m   6641\u001b[0m \u001b[38;5;28;01melse\u001b[39;00m:\n\u001b[0;32m   6642\u001b[0m     \u001b[38;5;66;03m# else, only a single dtype is given\u001b[39;00m\n\u001b[1;32m-> 6643\u001b[0m     new_data \u001b[38;5;241m=\u001b[39m \u001b[38;5;28mself\u001b[39m\u001b[38;5;241m.\u001b[39m_mgr\u001b[38;5;241m.\u001b[39mastype(dtype\u001b[38;5;241m=\u001b[39mdtype, copy\u001b[38;5;241m=\u001b[39mcopy, errors\u001b[38;5;241m=\u001b[39merrors)\n\u001b[0;32m   6644\u001b[0m     res \u001b[38;5;241m=\u001b[39m \u001b[38;5;28mself\u001b[39m\u001b[38;5;241m.\u001b[39m_constructor_from_mgr(new_data, axes\u001b[38;5;241m=\u001b[39mnew_data\u001b[38;5;241m.\u001b[39maxes)\n\u001b[0;32m   6645\u001b[0m     \u001b[38;5;28;01mreturn\u001b[39;00m res\u001b[38;5;241m.\u001b[39m__finalize__(\u001b[38;5;28mself\u001b[39m, method\u001b[38;5;241m=\u001b[39m\u001b[38;5;124m\"\u001b[39m\u001b[38;5;124mastype\u001b[39m\u001b[38;5;124m\"\u001b[39m)\n",
      "File \u001b[1;32m~\\anaconda3A\\Lib\\site-packages\\pandas\\core\\internals\\managers.py:430\u001b[0m, in \u001b[0;36mBaseBlockManager.astype\u001b[1;34m(self, dtype, copy, errors)\u001b[0m\n\u001b[0;32m    427\u001b[0m \u001b[38;5;28;01melif\u001b[39;00m using_copy_on_write():\n\u001b[0;32m    428\u001b[0m     copy \u001b[38;5;241m=\u001b[39m \u001b[38;5;28;01mFalse\u001b[39;00m\n\u001b[1;32m--> 430\u001b[0m \u001b[38;5;28;01mreturn\u001b[39;00m \u001b[38;5;28mself\u001b[39m\u001b[38;5;241m.\u001b[39mapply(\n\u001b[0;32m    431\u001b[0m     \u001b[38;5;124m\"\u001b[39m\u001b[38;5;124mastype\u001b[39m\u001b[38;5;124m\"\u001b[39m,\n\u001b[0;32m    432\u001b[0m     dtype\u001b[38;5;241m=\u001b[39mdtype,\n\u001b[0;32m    433\u001b[0m     copy\u001b[38;5;241m=\u001b[39mcopy,\n\u001b[0;32m    434\u001b[0m     errors\u001b[38;5;241m=\u001b[39merrors,\n\u001b[0;32m    435\u001b[0m     using_cow\u001b[38;5;241m=\u001b[39musing_copy_on_write(),\n\u001b[0;32m    436\u001b[0m )\n",
      "File \u001b[1;32m~\\anaconda3A\\Lib\\site-packages\\pandas\\core\\internals\\managers.py:363\u001b[0m, in \u001b[0;36mBaseBlockManager.apply\u001b[1;34m(self, f, align_keys, **kwargs)\u001b[0m\n\u001b[0;32m    361\u001b[0m         applied \u001b[38;5;241m=\u001b[39m b\u001b[38;5;241m.\u001b[39mapply(f, \u001b[38;5;241m*\u001b[39m\u001b[38;5;241m*\u001b[39mkwargs)\n\u001b[0;32m    362\u001b[0m     \u001b[38;5;28;01melse\u001b[39;00m:\n\u001b[1;32m--> 363\u001b[0m         applied \u001b[38;5;241m=\u001b[39m \u001b[38;5;28mgetattr\u001b[39m(b, f)(\u001b[38;5;241m*\u001b[39m\u001b[38;5;241m*\u001b[39mkwargs)\n\u001b[0;32m    364\u001b[0m     result_blocks \u001b[38;5;241m=\u001b[39m extend_blocks(applied, result_blocks)\n\u001b[0;32m    366\u001b[0m out \u001b[38;5;241m=\u001b[39m \u001b[38;5;28mtype\u001b[39m(\u001b[38;5;28mself\u001b[39m)\u001b[38;5;241m.\u001b[39mfrom_blocks(result_blocks, \u001b[38;5;28mself\u001b[39m\u001b[38;5;241m.\u001b[39maxes)\n",
      "File \u001b[1;32m~\\anaconda3A\\Lib\\site-packages\\pandas\\core\\internals\\blocks.py:758\u001b[0m, in \u001b[0;36mBlock.astype\u001b[1;34m(self, dtype, copy, errors, using_cow, squeeze)\u001b[0m\n\u001b[0;32m    755\u001b[0m         \u001b[38;5;28;01mraise\u001b[39;00m \u001b[38;5;167;01mValueError\u001b[39;00m(\u001b[38;5;124m\"\u001b[39m\u001b[38;5;124mCan not squeeze with more than one column.\u001b[39m\u001b[38;5;124m\"\u001b[39m)\n\u001b[0;32m    756\u001b[0m     values \u001b[38;5;241m=\u001b[39m values[\u001b[38;5;241m0\u001b[39m, :]  \u001b[38;5;66;03m# type: ignore[call-overload]\u001b[39;00m\n\u001b[1;32m--> 758\u001b[0m new_values \u001b[38;5;241m=\u001b[39m astype_array_safe(values, dtype, copy\u001b[38;5;241m=\u001b[39mcopy, errors\u001b[38;5;241m=\u001b[39merrors)\n\u001b[0;32m    760\u001b[0m new_values \u001b[38;5;241m=\u001b[39m maybe_coerce_values(new_values)\n\u001b[0;32m    762\u001b[0m refs \u001b[38;5;241m=\u001b[39m \u001b[38;5;28;01mNone\u001b[39;00m\n",
      "File \u001b[1;32m~\\anaconda3A\\Lib\\site-packages\\pandas\\core\\dtypes\\astype.py:237\u001b[0m, in \u001b[0;36mastype_array_safe\u001b[1;34m(values, dtype, copy, errors)\u001b[0m\n\u001b[0;32m    234\u001b[0m     dtype \u001b[38;5;241m=\u001b[39m dtype\u001b[38;5;241m.\u001b[39mnumpy_dtype\n\u001b[0;32m    236\u001b[0m \u001b[38;5;28;01mtry\u001b[39;00m:\n\u001b[1;32m--> 237\u001b[0m     new_values \u001b[38;5;241m=\u001b[39m astype_array(values, dtype, copy\u001b[38;5;241m=\u001b[39mcopy)\n\u001b[0;32m    238\u001b[0m \u001b[38;5;28;01mexcept\u001b[39;00m (\u001b[38;5;167;01mValueError\u001b[39;00m, \u001b[38;5;167;01mTypeError\u001b[39;00m):\n\u001b[0;32m    239\u001b[0m     \u001b[38;5;66;03m# e.g. _astype_nansafe can fail on object-dtype of strings\u001b[39;00m\n\u001b[0;32m    240\u001b[0m     \u001b[38;5;66;03m#  trying to convert to float\u001b[39;00m\n\u001b[0;32m    241\u001b[0m     \u001b[38;5;28;01mif\u001b[39;00m errors \u001b[38;5;241m==\u001b[39m \u001b[38;5;124m\"\u001b[39m\u001b[38;5;124mignore\u001b[39m\u001b[38;5;124m\"\u001b[39m:\n",
      "File \u001b[1;32m~\\anaconda3A\\Lib\\site-packages\\pandas\\core\\dtypes\\astype.py:182\u001b[0m, in \u001b[0;36mastype_array\u001b[1;34m(values, dtype, copy)\u001b[0m\n\u001b[0;32m    179\u001b[0m     values \u001b[38;5;241m=\u001b[39m values\u001b[38;5;241m.\u001b[39mastype(dtype, copy\u001b[38;5;241m=\u001b[39mcopy)\n\u001b[0;32m    181\u001b[0m \u001b[38;5;28;01melse\u001b[39;00m:\n\u001b[1;32m--> 182\u001b[0m     values \u001b[38;5;241m=\u001b[39m _astype_nansafe(values, dtype, copy\u001b[38;5;241m=\u001b[39mcopy)\n\u001b[0;32m    184\u001b[0m \u001b[38;5;66;03m# in pandas we don't store numpy str dtypes, so convert to object\u001b[39;00m\n\u001b[0;32m    185\u001b[0m \u001b[38;5;28;01mif\u001b[39;00m \u001b[38;5;28misinstance\u001b[39m(dtype, np\u001b[38;5;241m.\u001b[39mdtype) \u001b[38;5;129;01mand\u001b[39;00m \u001b[38;5;28missubclass\u001b[39m(values\u001b[38;5;241m.\u001b[39mdtype\u001b[38;5;241m.\u001b[39mtype, \u001b[38;5;28mstr\u001b[39m):\n",
      "File \u001b[1;32m~\\anaconda3A\\Lib\\site-packages\\pandas\\core\\dtypes\\astype.py:101\u001b[0m, in \u001b[0;36m_astype_nansafe\u001b[1;34m(arr, dtype, copy, skipna)\u001b[0m\n\u001b[0;32m     96\u001b[0m     \u001b[38;5;28;01mreturn\u001b[39;00m lib\u001b[38;5;241m.\u001b[39mensure_string_array(\n\u001b[0;32m     97\u001b[0m         arr, skipna\u001b[38;5;241m=\u001b[39mskipna, convert_na_value\u001b[38;5;241m=\u001b[39m\u001b[38;5;28;01mFalse\u001b[39;00m\n\u001b[0;32m     98\u001b[0m     )\u001b[38;5;241m.\u001b[39mreshape(shape)\n\u001b[0;32m    100\u001b[0m \u001b[38;5;28;01melif\u001b[39;00m np\u001b[38;5;241m.\u001b[39missubdtype(arr\u001b[38;5;241m.\u001b[39mdtype, np\u001b[38;5;241m.\u001b[39mfloating) \u001b[38;5;129;01mand\u001b[39;00m dtype\u001b[38;5;241m.\u001b[39mkind \u001b[38;5;129;01min\u001b[39;00m \u001b[38;5;124m\"\u001b[39m\u001b[38;5;124miu\u001b[39m\u001b[38;5;124m\"\u001b[39m:\n\u001b[1;32m--> 101\u001b[0m     \u001b[38;5;28;01mreturn\u001b[39;00m _astype_float_to_int_nansafe(arr, dtype, copy)\n\u001b[0;32m    103\u001b[0m \u001b[38;5;28;01melif\u001b[39;00m arr\u001b[38;5;241m.\u001b[39mdtype \u001b[38;5;241m==\u001b[39m \u001b[38;5;28mobject\u001b[39m:\n\u001b[0;32m    104\u001b[0m     \u001b[38;5;66;03m# if we have a datetime/timedelta array of objects\u001b[39;00m\n\u001b[0;32m    105\u001b[0m     \u001b[38;5;66;03m# then coerce to datetime64[ns] and use DatetimeArray.astype\u001b[39;00m\n\u001b[0;32m    107\u001b[0m     \u001b[38;5;28;01mif\u001b[39;00m lib\u001b[38;5;241m.\u001b[39mis_np_dtype(dtype, \u001b[38;5;124m\"\u001b[39m\u001b[38;5;124mM\u001b[39m\u001b[38;5;124m\"\u001b[39m):\n",
      "File \u001b[1;32m~\\anaconda3A\\Lib\\site-packages\\pandas\\core\\dtypes\\astype.py:145\u001b[0m, in \u001b[0;36m_astype_float_to_int_nansafe\u001b[1;34m(values, dtype, copy)\u001b[0m\n\u001b[0;32m    141\u001b[0m \u001b[38;5;250m\u001b[39m\u001b[38;5;124;03m\"\"\"\u001b[39;00m\n\u001b[0;32m    142\u001b[0m \u001b[38;5;124;03mastype with a check preventing converting NaN to an meaningless integer value.\u001b[39;00m\n\u001b[0;32m    143\u001b[0m \u001b[38;5;124;03m\"\"\"\u001b[39;00m\n\u001b[0;32m    144\u001b[0m \u001b[38;5;28;01mif\u001b[39;00m \u001b[38;5;129;01mnot\u001b[39;00m np\u001b[38;5;241m.\u001b[39misfinite(values)\u001b[38;5;241m.\u001b[39mall():\n\u001b[1;32m--> 145\u001b[0m     \u001b[38;5;28;01mraise\u001b[39;00m IntCastingNaNError(\n\u001b[0;32m    146\u001b[0m         \u001b[38;5;124m\"\u001b[39m\u001b[38;5;124mCannot convert non-finite values (NA or inf) to integer\u001b[39m\u001b[38;5;124m\"\u001b[39m\n\u001b[0;32m    147\u001b[0m     )\n\u001b[0;32m    148\u001b[0m \u001b[38;5;28;01mif\u001b[39;00m dtype\u001b[38;5;241m.\u001b[39mkind \u001b[38;5;241m==\u001b[39m \u001b[38;5;124m\"\u001b[39m\u001b[38;5;124mu\u001b[39m\u001b[38;5;124m\"\u001b[39m:\n\u001b[0;32m    149\u001b[0m     \u001b[38;5;66;03m# GH#45151\u001b[39;00m\n\u001b[0;32m    150\u001b[0m     \u001b[38;5;28;01mif\u001b[39;00m \u001b[38;5;129;01mnot\u001b[39;00m (values \u001b[38;5;241m>\u001b[39m\u001b[38;5;241m=\u001b[39m \u001b[38;5;241m0\u001b[39m)\u001b[38;5;241m.\u001b[39mall():\n",
      "\u001b[1;31mIntCastingNaNError\u001b[0m: Cannot convert non-finite values (NA or inf) to integer"
     ]
    }
   ],
   "source": [
    "# Convertir en entier proprement\n",
    "df_net['Numéro Client'] = df_net['Numéro Client'].astype(int)"
   ]
  },
  {
   "cell_type": "markdown",
   "id": "f732fe34-ad36-47be-ba47-00dbaac7b04c",
   "metadata": {},
   "source": [
    "## ajouter une colonne numéro aléatoire\n",
    "____________________"
   ]
  },
  {
   "cell_type": "code",
   "execution_count": 98,
   "id": "0f726512-a1f5-4405-82b4-02d0b4b2e6e0",
   "metadata": {},
   "outputs": [],
   "source": [
    "import random\n",
    "\n",
    "def generer_numero_ooredoo():\n",
    "    # \"2\" + 7 chiffres aléatoires\n",
    "    return '2' + ''.join([str(random.randint(0, 9)) for _ in range(7)])\n",
    "\n",
    "# Appliquer à chaque ligne\n",
    "df_net['Numéro Ooredoo'] = df_net.apply(lambda _: generer_numero_ooredoo(), axis=1)\n"
   ]
  },
  {
   "cell_type": "code",
   "execution_count": 104,
   "id": "22f3de60-5e7a-4659-a498-783f598b4ce8",
   "metadata": {},
   "outputs": [
    {
     "name": "stdout",
     "output_type": "stream",
     "text": [
      "<class 'pandas.core.frame.DataFrame'>\n",
      "RangeIndex: 1488 entries, 0 to 1487\n",
      "Data columns (total 21 columns):\n",
      " #   Column                Non-Null Count  Dtype         \n",
      "---  ------                --------------  -----         \n",
      " 0   id_client             1488 non-null   int64         \n",
      " 1   Numéro Client         200 non-null    float64       \n",
      " 2   Age                   1488 non-null   object        \n",
      " 3   Genre                 1488 non-null   object        \n",
      " 4   Date de retour        1488 non-null   datetime64[ns]\n",
      " 5   Langue                1488 non-null   object        \n",
      " 6   Avis Client           1486 non-null   object        \n",
      " 7   Note                  799 non-null    float64       \n",
      " 8   Type de problème      1488 non-null   object        \n",
      " 9   Localisation          1488 non-null   object        \n",
      " 10  Score de sentiment    1488 non-null   object        \n",
      " 11  Émotion détectée      1488 non-null   object        \n",
      " 12  Probabilité de churn  1488 non-null   float64       \n",
      " 13  Résumé de l’avis      198 non-null    object        \n",
      " 14  Connection Type       1488 non-null   object        \n",
      " 15  Customer Type         1488 non-null   object        \n",
      " 16  Customer Tenure       200 non-null    object        \n",
      " 17  Tarif nom (Forfait)   200 non-null    object        \n",
      " 18  Segment Client        200 non-null    object        \n",
      " 19  Numéro Ooredoo        1488 non-null   object        \n",
      " 20  Numero Final          1488 non-null   object        \n",
      "dtypes: datetime64[ns](1), float64(3), int64(1), object(16)\n",
      "memory usage: 244.3+ KB\n"
     ]
    }
   ],
   "source": [
    "df_net.info()"
   ]
  },
  {
   "cell_type": "code",
   "execution_count": 102,
   "id": "51cb4ce6-4ccd-4ff3-b918-9a596a57141a",
   "metadata": {},
   "outputs": [],
   "source": [
    "# Créer la colonne 'Numero Final'\n",
    "df_net['Numero Final'] = df_net.apply(\n",
    "    lambda row: str(int(row['Numéro Client'])) if pd.notna(row['Numéro Client']) else row['Numéro Ooredoo'],\n",
    "    axis=1\n",
    ")\n"
   ]
  },
  {
   "cell_type": "code",
   "execution_count": 108,
   "id": "4dd32e60-9644-4f0d-ba87-5751b45ec045",
   "metadata": {},
   "outputs": [],
   "source": [
    "# Créer la colonne 'ID_CLT_final' avec 216 au début, convertie en entier\n",
    "df_net['ID_CLT_final'] = ('216' + df_net['Numero Final'].astype(str))\n"
   ]
  },
  {
   "cell_type": "code",
   "execution_count": 114,
   "id": "691d718c-5c18-4e23-bb4c-135c5ed74778",
   "metadata": {},
   "outputs": [],
   "source": [
    "# Pour convertir en entier 64 bits (grand entier)\n",
    "df_net['ID_CLT_final'] = df_net['ID_CLT_final'].astype('int64')"
   ]
  },
  {
   "cell_type": "code",
   "execution_count": null,
   "id": "d3be0797-f361-4699-8033-538770c651b8",
   "metadata": {},
   "outputs": [],
   "source": []
  },
  {
   "cell_type": "code",
   "execution_count": 116,
   "id": "87e1a87e-b8ea-4142-bc4c-e0aaae46eef3",
   "metadata": {},
   "outputs": [
    {
     "name": "stdout",
     "output_type": "stream",
     "text": [
      "<class 'pandas.core.frame.DataFrame'>\n",
      "RangeIndex: 1488 entries, 0 to 1487\n",
      "Data columns (total 22 columns):\n",
      " #   Column                Non-Null Count  Dtype         \n",
      "---  ------                --------------  -----         \n",
      " 0   id_client             1488 non-null   int64         \n",
      " 1   Numéro Client         200 non-null    float64       \n",
      " 2   Age                   1488 non-null   object        \n",
      " 3   Genre                 1488 non-null   object        \n",
      " 4   Date de retour        1488 non-null   datetime64[ns]\n",
      " 5   Langue                1488 non-null   object        \n",
      " 6   Avis Client           1486 non-null   object        \n",
      " 7   Note                  799 non-null    float64       \n",
      " 8   Type de problème      1488 non-null   object        \n",
      " 9   Localisation          1488 non-null   object        \n",
      " 10  Score de sentiment    1488 non-null   object        \n",
      " 11  Émotion détectée      1488 non-null   object        \n",
      " 12  Probabilité de churn  1488 non-null   float64       \n",
      " 13  Résumé de l’avis      198 non-null    object        \n",
      " 14  Connection Type       1488 non-null   object        \n",
      " 15  Customer Type         1488 non-null   object        \n",
      " 16  Customer Tenure       200 non-null    object        \n",
      " 17  Tarif nom (Forfait)   200 non-null    object        \n",
      " 18  Segment Client        200 non-null    object        \n",
      " 19  Numéro Ooredoo        1488 non-null   object        \n",
      " 20  Numero Final          1488 non-null   object        \n",
      " 21  ID_CLT_final          1488 non-null   int64         \n",
      "dtypes: datetime64[ns](1), float64(3), int64(2), object(16)\n",
      "memory usage: 255.9+ KB\n"
     ]
    }
   ],
   "source": [
    "df_net.info()"
   ]
  },
  {
   "cell_type": "code",
   "execution_count": 118,
   "id": "2efde509-edde-4b30-a119-1009180f0449",
   "metadata": {},
   "outputs": [],
   "source": [
    "# Réorganiser les colonnes : mettre 'ID_CLT_final' en premier\n",
    "colonnes = ['ID_CLT_final'] + [col for col in df_net.columns if col != 'ID_CLT_final']\n",
    "df_net = df_net[colonnes]"
   ]
  },
  {
   "cell_type": "code",
   "execution_count": 120,
   "id": "4dd22157-4464-499a-bba2-cdf254e7e13d",
   "metadata": {},
   "outputs": [
    {
     "data": {
      "text/html": [
       "<div>\n",
       "<style scoped>\n",
       "    .dataframe tbody tr th:only-of-type {\n",
       "        vertical-align: middle;\n",
       "    }\n",
       "\n",
       "    .dataframe tbody tr th {\n",
       "        vertical-align: top;\n",
       "    }\n",
       "\n",
       "    .dataframe thead th {\n",
       "        text-align: right;\n",
       "    }\n",
       "</style>\n",
       "<table border=\"1\" class=\"dataframe\">\n",
       "  <thead>\n",
       "    <tr style=\"text-align: right;\">\n",
       "      <th></th>\n",
       "      <th>ID_CLT_final</th>\n",
       "      <th>id_client</th>\n",
       "      <th>Numéro Client</th>\n",
       "      <th>Age</th>\n",
       "      <th>Genre</th>\n",
       "      <th>Date de retour</th>\n",
       "      <th>Langue</th>\n",
       "      <th>Avis Client</th>\n",
       "      <th>Note</th>\n",
       "      <th>Type de problème</th>\n",
       "      <th>...</th>\n",
       "      <th>Émotion détectée</th>\n",
       "      <th>Probabilité de churn</th>\n",
       "      <th>Résumé de l’avis</th>\n",
       "      <th>Connection Type</th>\n",
       "      <th>Customer Type</th>\n",
       "      <th>Customer Tenure</th>\n",
       "      <th>Tarif nom (Forfait)</th>\n",
       "      <th>Segment Client</th>\n",
       "      <th>Numéro Ooredoo</th>\n",
       "      <th>Numero Final</th>\n",
       "    </tr>\n",
       "  </thead>\n",
       "  <tbody>\n",
       "    <tr>\n",
       "      <th>0</th>\n",
       "      <td>21624737244</td>\n",
       "      <td>1</td>\n",
       "      <td>24737244.0</td>\n",
       "      <td>15-25</td>\n",
       "      <td>Homme</td>\n",
       "      <td>2025-01-10</td>\n",
       "      <td>Anglais</td>\n",
       "      <td>Excellent 5G coverage, very satisfied!</td>\n",
       "      <td>5.0</td>\n",
       "      <td>Stabilité</td>\n",
       "      <td>...</td>\n",
       "      <td>Joie</td>\n",
       "      <td>0.5</td>\n",
       "      <td>Excellent 5G coverage…</td>\n",
       "      <td>Prepaid</td>\n",
       "      <td>B2B</td>\n",
       "      <td>more than 15 year</td>\n",
       "      <td>Offre 1000</td>\n",
       "      <td>Entreprise</td>\n",
       "      <td>24296663</td>\n",
       "      <td>24737244</td>\n",
       "    </tr>\n",
       "    <tr>\n",
       "      <th>1</th>\n",
       "      <td>21625876567</td>\n",
       "      <td>2</td>\n",
       "      <td>25876567.0</td>\n",
       "      <td>25-35</td>\n",
       "      <td>Femme</td>\n",
       "      <td>2025-03-07</td>\n",
       "      <td>Anglais</td>\n",
       "      <td>La couverture est excellente dans ma région.</td>\n",
       "      <td>5.0</td>\n",
       "      <td>Service client</td>\n",
       "      <td>...</td>\n",
       "      <td>Joie</td>\n",
       "      <td>0.2</td>\n",
       "      <td>5G works well but...</td>\n",
       "      <td>Paid</td>\n",
       "      <td>B2C</td>\n",
       "      <td>less than 10 year</td>\n",
       "      <td>Offre 1000</td>\n",
       "      <td>High value</td>\n",
       "      <td>25857179</td>\n",
       "      <td>25876567</td>\n",
       "    </tr>\n",
       "    <tr>\n",
       "      <th>2</th>\n",
       "      <td>21622656507</td>\n",
       "      <td>3</td>\n",
       "      <td>22656507.0</td>\n",
       "      <td>35-45</td>\n",
       "      <td>Homme</td>\n",
       "      <td>2025-02-05</td>\n",
       "      <td>Arabe</td>\n",
       "      <td>تغطية 5G ممتازة، أنا راضٍ جدًا!</td>\n",
       "      <td>5.0</td>\n",
       "      <td>Couverture</td>\n",
       "      <td>...</td>\n",
       "      <td>Joie</td>\n",
       "      <td>0.2</td>\n",
       "      <td>تغطية 5G ممتازة، أنا…</td>\n",
       "      <td>Paid</td>\n",
       "      <td>B2B</td>\n",
       "      <td>0 to 3 months</td>\n",
       "      <td>Offre 1000</td>\n",
       "      <td>High value</td>\n",
       "      <td>26010443</td>\n",
       "      <td>22656507</td>\n",
       "    </tr>\n",
       "    <tr>\n",
       "      <th>3</th>\n",
       "      <td>21625987154</td>\n",
       "      <td>4</td>\n",
       "      <td>25987154.0</td>\n",
       "      <td>45-55</td>\n",
       "      <td>Femme</td>\n",
       "      <td>2025-03-18</td>\n",
       "      <td>Anglais</td>\n",
       "      <td>كنكسيون خايبة</td>\n",
       "      <td>1.0</td>\n",
       "      <td>Stabilité</td>\n",
       "      <td>...</td>\n",
       "      <td>Colère</td>\n",
       "      <td>0.9</td>\n",
       "      <td>5G works well but...</td>\n",
       "      <td>Prepaid</td>\n",
       "      <td>B2B</td>\n",
       "      <td>more than 2 years</td>\n",
       "      <td>Offre 1000</td>\n",
       "      <td>High value</td>\n",
       "      <td>27337396</td>\n",
       "      <td>25987154</td>\n",
       "    </tr>\n",
       "    <tr>\n",
       "      <th>4</th>\n",
       "      <td>21620546148</td>\n",
       "      <td>5</td>\n",
       "      <td>20546148.0</td>\n",
       "      <td>15-25</td>\n",
       "      <td>Homme</td>\n",
       "      <td>2025-04-09</td>\n",
       "      <td>Français</td>\n",
       "      <td>La 5G fonctionne bien mais parfois instable.</td>\n",
       "      <td>4.0</td>\n",
       "      <td>Service client</td>\n",
       "      <td>...</td>\n",
       "      <td>Légère inquiétude</td>\n",
       "      <td>0.1</td>\n",
       "      <td>La 5G fonctionne bien mais…</td>\n",
       "      <td>Paid</td>\n",
       "      <td>B2B</td>\n",
       "      <td>0 to 6 months</td>\n",
       "      <td>Offre 1000</td>\n",
       "      <td>High value</td>\n",
       "      <td>20011424</td>\n",
       "      <td>20546148</td>\n",
       "    </tr>\n",
       "  </tbody>\n",
       "</table>\n",
       "<p>5 rows × 22 columns</p>\n",
       "</div>"
      ],
      "text/plain": [
       "   ID_CLT_final  id_client  Numéro Client    Age  Genre Date de retour  \\\n",
       "0   21624737244          1     24737244.0  15-25  Homme     2025-01-10   \n",
       "1   21625876567          2     25876567.0  25-35  Femme     2025-03-07   \n",
       "2   21622656507          3     22656507.0  35-45  Homme     2025-02-05   \n",
       "3   21625987154          4     25987154.0  45-55  Femme     2025-03-18   \n",
       "4   21620546148          5     20546148.0  15-25  Homme     2025-04-09   \n",
       "\n",
       "     Langue                                   Avis Client  Note  \\\n",
       "0   Anglais        Excellent 5G coverage, very satisfied!   5.0   \n",
       "1   Anglais  La couverture est excellente dans ma région.   5.0   \n",
       "2     Arabe               تغطية 5G ممتازة، أنا راضٍ جدًا!   5.0   \n",
       "3   Anglais                                 كنكسيون خايبة   1.0   \n",
       "4  Français  La 5G fonctionne bien mais parfois instable.   4.0   \n",
       "\n",
       "  Type de problème  ...   Émotion détectée Probabilité de churn  \\\n",
       "0        Stabilité  ...               Joie                  0.5   \n",
       "1   Service client  ...               Joie                  0.2   \n",
       "2       Couverture  ...               Joie                  0.2   \n",
       "3        Stabilité  ...             Colère                  0.9   \n",
       "4   Service client  ...  Légère inquiétude                  0.1   \n",
       "\n",
       "              Résumé de l’avis  Connection Type Customer Type  \\\n",
       "0       Excellent 5G coverage…         Prepaid            B2B   \n",
       "1         5G works well but...             Paid           B2C   \n",
       "2        تغطية 5G ممتازة، أنا…             Paid           B2B   \n",
       "3         5G works well but...         Prepaid            B2B   \n",
       "4  La 5G fonctionne bien mais…             Paid           B2B   \n",
       "\n",
       "      Customer Tenure Tarif nom (Forfait) Segment Client Numéro Ooredoo  \\\n",
       "0   more than 15 year          Offre 1000    Entreprise        24296663   \n",
       "1  less than 10 year           Offre 1000     High value       25857179   \n",
       "2      0 to 3 months           Offre 1000     High value       26010443   \n",
       "3   more than 2 years          Offre 1000     High value       27337396   \n",
       "4       0 to 6 months          Offre 1000     High value       20011424   \n",
       "\n",
       "  Numero Final  \n",
       "0     24737244  \n",
       "1     25876567  \n",
       "2     22656507  \n",
       "3     25987154  \n",
       "4     20546148  \n",
       "\n",
       "[5 rows x 22 columns]"
      ]
     },
     "execution_count": 120,
     "metadata": {},
     "output_type": "execute_result"
    }
   ],
   "source": [
    "df_net.head()"
   ]
  },
  {
   "cell_type": "code",
   "execution_count": 122,
   "id": "7d9cd717-81d2-4213-8989-281c2b693ec8",
   "metadata": {},
   "outputs": [],
   "source": [
    "df_net.to_excel(\"df_net_nettoyees3.xlsx\", index=False)"
   ]
  },
  {
   "cell_type": "code",
   "execution_count": null,
   "id": "c16dfc43-db01-4c7c-86ef-10ce5fad0d92",
   "metadata": {},
   "outputs": [],
   "source": []
  },
  {
   "cell_type": "code",
   "execution_count": 5,
   "id": "4f3b7d6a-a080-4c4a-aced-a00e6e0d39c6",
   "metadata": {},
   "outputs": [],
   "source": [
    "df_net = pd.read_excel('df_net_nettoyees3.xlsx')"
   ]
  },
  {
   "cell_type": "code",
   "execution_count": 21,
   "id": "4996dda8-b02b-40b6-b866-1ca97aadb1dc",
   "metadata": {},
   "outputs": [
    {
     "data": {
      "text/html": [
       "<div>\n",
       "<style scoped>\n",
       "    .dataframe tbody tr th:only-of-type {\n",
       "        vertical-align: middle;\n",
       "    }\n",
       "\n",
       "    .dataframe tbody tr th {\n",
       "        vertical-align: top;\n",
       "    }\n",
       "\n",
       "    .dataframe thead th {\n",
       "        text-align: right;\n",
       "    }\n",
       "</style>\n",
       "<table border=\"1\" class=\"dataframe\">\n",
       "  <thead>\n",
       "    <tr style=\"text-align: right;\">\n",
       "      <th></th>\n",
       "      <th>ID_CLT_final</th>\n",
       "      <th>id_client</th>\n",
       "      <th>Numéro Client</th>\n",
       "      <th>Age</th>\n",
       "      <th>Genre</th>\n",
       "      <th>Date de retour</th>\n",
       "      <th>Langue</th>\n",
       "      <th>Avis Client</th>\n",
       "      <th>Note</th>\n",
       "      <th>Type de problème</th>\n",
       "      <th>...</th>\n",
       "      <th>Résumé de l’avis</th>\n",
       "      <th>Connection Type</th>\n",
       "      <th>Customer Type</th>\n",
       "      <th>Customer Tenure</th>\n",
       "      <th>Tarif nom (Forfait)</th>\n",
       "      <th>Segment Client</th>\n",
       "      <th>Numéro Ooredoo</th>\n",
       "      <th>Numero Final</th>\n",
       "      <th>Latitude</th>\n",
       "      <th>Longitude</th>\n",
       "    </tr>\n",
       "  </thead>\n",
       "  <tbody>\n",
       "    <tr>\n",
       "      <th>0</th>\n",
       "      <td>21624737244</td>\n",
       "      <td>1</td>\n",
       "      <td>24737244.0</td>\n",
       "      <td>15-25</td>\n",
       "      <td>Homme</td>\n",
       "      <td>2025-01-10</td>\n",
       "      <td>Anglais</td>\n",
       "      <td>Excellent 5G coverage, very satisfied!</td>\n",
       "      <td>5.0</td>\n",
       "      <td>Stabilité</td>\n",
       "      <td>...</td>\n",
       "      <td>Excellent 5G coverage…</td>\n",
       "      <td>Prepaid</td>\n",
       "      <td>B2B</td>\n",
       "      <td>more than 15 year</td>\n",
       "      <td>Offre 1000</td>\n",
       "      <td>Entreprise</td>\n",
       "      <td>24296663</td>\n",
       "      <td>24737244</td>\n",
       "      <td>None</td>\n",
       "      <td>None</td>\n",
       "    </tr>\n",
       "    <tr>\n",
       "      <th>1</th>\n",
       "      <td>21625876567</td>\n",
       "      <td>2</td>\n",
       "      <td>25876567.0</td>\n",
       "      <td>25-35</td>\n",
       "      <td>Femme</td>\n",
       "      <td>2025-03-07</td>\n",
       "      <td>Anglais</td>\n",
       "      <td>La couverture est excellente dans ma région.</td>\n",
       "      <td>5.0</td>\n",
       "      <td>Service client</td>\n",
       "      <td>...</td>\n",
       "      <td>5G works well but...</td>\n",
       "      <td>Paid</td>\n",
       "      <td>B2C</td>\n",
       "      <td>less than 10 year</td>\n",
       "      <td>Offre 1000</td>\n",
       "      <td>High value</td>\n",
       "      <td>25857179</td>\n",
       "      <td>25876567</td>\n",
       "      <td>None</td>\n",
       "      <td>None</td>\n",
       "    </tr>\n",
       "    <tr>\n",
       "      <th>2</th>\n",
       "      <td>21622656507</td>\n",
       "      <td>3</td>\n",
       "      <td>22656507.0</td>\n",
       "      <td>35-45</td>\n",
       "      <td>Homme</td>\n",
       "      <td>2025-02-05</td>\n",
       "      <td>Arabe</td>\n",
       "      <td>تغطية 5G ممتازة، أنا راضٍ جدًا!</td>\n",
       "      <td>5.0</td>\n",
       "      <td>Couverture</td>\n",
       "      <td>...</td>\n",
       "      <td>تغطية 5G ممتازة، أنا…</td>\n",
       "      <td>Paid</td>\n",
       "      <td>B2B</td>\n",
       "      <td>0 to 3 months</td>\n",
       "      <td>Offre 1000</td>\n",
       "      <td>High value</td>\n",
       "      <td>26010443</td>\n",
       "      <td>22656507</td>\n",
       "      <td>None</td>\n",
       "      <td>None</td>\n",
       "    </tr>\n",
       "    <tr>\n",
       "      <th>3</th>\n",
       "      <td>21625987154</td>\n",
       "      <td>4</td>\n",
       "      <td>25987154.0</td>\n",
       "      <td>45-55</td>\n",
       "      <td>Femme</td>\n",
       "      <td>2025-03-18</td>\n",
       "      <td>Anglais</td>\n",
       "      <td>كنكسيون خايبة</td>\n",
       "      <td>1.0</td>\n",
       "      <td>Stabilité</td>\n",
       "      <td>...</td>\n",
       "      <td>5G works well but...</td>\n",
       "      <td>Prepaid</td>\n",
       "      <td>B2B</td>\n",
       "      <td>more than 2 years</td>\n",
       "      <td>Offre 1000</td>\n",
       "      <td>High value</td>\n",
       "      <td>27337396</td>\n",
       "      <td>25987154</td>\n",
       "      <td>None</td>\n",
       "      <td>None</td>\n",
       "    </tr>\n",
       "    <tr>\n",
       "      <th>4</th>\n",
       "      <td>21620546148</td>\n",
       "      <td>5</td>\n",
       "      <td>20546148.0</td>\n",
       "      <td>15-25</td>\n",
       "      <td>Homme</td>\n",
       "      <td>2025-04-09</td>\n",
       "      <td>Français</td>\n",
       "      <td>La 5G fonctionne bien mais parfois instable.</td>\n",
       "      <td>4.0</td>\n",
       "      <td>Service client</td>\n",
       "      <td>...</td>\n",
       "      <td>La 5G fonctionne bien mais…</td>\n",
       "      <td>Paid</td>\n",
       "      <td>B2B</td>\n",
       "      <td>0 to 6 months</td>\n",
       "      <td>Offre 1000</td>\n",
       "      <td>High value</td>\n",
       "      <td>20011424</td>\n",
       "      <td>20546148</td>\n",
       "      <td>None</td>\n",
       "      <td>None</td>\n",
       "    </tr>\n",
       "  </tbody>\n",
       "</table>\n",
       "<p>5 rows × 24 columns</p>\n",
       "</div>"
      ],
      "text/plain": [
       "   ID_CLT_final  id_client  Numéro Client    Age  Genre Date de retour  \\\n",
       "0   21624737244          1     24737244.0  15-25  Homme     2025-01-10   \n",
       "1   21625876567          2     25876567.0  25-35  Femme     2025-03-07   \n",
       "2   21622656507          3     22656507.0  35-45  Homme     2025-02-05   \n",
       "3   21625987154          4     25987154.0  45-55  Femme     2025-03-18   \n",
       "4   21620546148          5     20546148.0  15-25  Homme     2025-04-09   \n",
       "\n",
       "     Langue                                   Avis Client  Note  \\\n",
       "0   Anglais        Excellent 5G coverage, very satisfied!   5.0   \n",
       "1   Anglais  La couverture est excellente dans ma région.   5.0   \n",
       "2     Arabe               تغطية 5G ممتازة، أنا راضٍ جدًا!   5.0   \n",
       "3   Anglais                                 كنكسيون خايبة   1.0   \n",
       "4  Français  La 5G fonctionne bien mais parfois instable.   4.0   \n",
       "\n",
       "  Type de problème  ...             Résumé de l’avis Connection Type  \\\n",
       "0        Stabilité  ...       Excellent 5G coverage…        Prepaid    \n",
       "1   Service client  ...         5G works well but...            Paid   \n",
       "2       Couverture  ...        تغطية 5G ممتازة، أنا…            Paid   \n",
       "3        Stabilité  ...         5G works well but...        Prepaid    \n",
       "4   Service client  ...  La 5G fonctionne bien mais…            Paid   \n",
       "\n",
       "  Customer Type     Customer Tenure Tarif nom (Forfait) Segment Client  \\\n",
       "0           B2B   more than 15 year          Offre 1000    Entreprise    \n",
       "1           B2C  less than 10 year           Offre 1000     High value   \n",
       "2           B2B      0 to 3 months           Offre 1000     High value   \n",
       "3           B2B   more than 2 years          Offre 1000     High value   \n",
       "4           B2B       0 to 6 months          Offre 1000     High value   \n",
       "\n",
       "  Numéro Ooredoo Numero Final Latitude Longitude  \n",
       "0       24296663     24737244     None      None  \n",
       "1       25857179     25876567     None      None  \n",
       "2       26010443     22656507     None      None  \n",
       "3       27337396     25987154     None      None  \n",
       "4       20011424     20546148     None      None  \n",
       "\n",
       "[5 rows x 24 columns]"
      ]
     },
     "execution_count": 21,
     "metadata": {},
     "output_type": "execute_result"
    }
   ],
   "source": [
    "df_net.head()"
   ]
  },
  {
   "cell_type": "code",
   "execution_count": 23,
   "id": "fc216342-f20f-48de-9885-2066ddc573ac",
   "metadata": {},
   "outputs": [],
   "source": [
    "# Fonction pour mettre en minuscule et retirer les accents\n",
    "import unicodedata\n",
    "\n",
    "def normaliser_nom(v):\n",
    "    if pd.isna(v):\n",
    "        return v\n",
    "    v = v.strip().lower()\n",
    "    v = ''.join(c for c in unicodedata.normalize('NFD', v) if unicodedata.category(c) != 'Mn')\n",
    "    return v\n",
    "\n",
    "# Appliquer la fonction à la colonne Localisation pour le mapping\n",
    "df_net['Localisation_norm'] = df_net['Localisation'].apply(normaliser_nom)\n"
   ]
  },
  {
   "cell_type": "code",
   "execution_count": 25,
   "id": "139dfe37-6f57-4560-b32f-346714031615",
   "metadata": {},
   "outputs": [],
   "source": [
    "# Nouveau dictionnaire avec clés normalisées\n",
    "coord_gouv_normalise = {\n",
    "    normaliser_nom(k): v for k, v in coord_gouv.items()\n",
    "}\n"
   ]
  },
  {
   "cell_type": "code",
   "execution_count": 27,
   "id": "4c3c178c-7648-4d27-850a-6eab1ba7c0b2",
   "metadata": {},
   "outputs": [],
   "source": [
    "# Appliquer le mapping sur la colonne normalisée\n",
    "df_net['Latitude'] = df_net['Localisation_norm'].map(lambda x: coord_gouv_normalise.get(x, (None, None))[0])\n",
    "df_net['Longitude'] = df_net['Localisation_norm'].map(lambda x: coord_gouv_normalise.get(x, (None, None))[1])"
   ]
  },
  {
   "cell_type": "code",
   "execution_count": 29,
   "id": "805b06cc-ff12-4939-a4ec-b2aa36574b4b",
   "metadata": {},
   "outputs": [
    {
     "name": "stdout",
     "output_type": "stream",
     "text": [
      "  Localisation  Latitude  Longitude\n",
      "0       SOUSSE   35.8256    10.6084\n",
      "1        TUNIS   36.8065    10.1815\n",
      "2        TUNIS   36.8065    10.1815\n",
      "3       SOUSSE   35.8256    10.6084\n",
      "4       NABEUL   36.4519    10.7363\n"
     ]
    }
   ],
   "source": [
    "print(df_net[['Localisation', 'Latitude', 'Longitude']].head())"
   ]
  },
  {
   "cell_type": "code",
   "execution_count": null,
   "id": "751374e1-20bf-45a2-93b4-251047753b26",
   "metadata": {},
   "outputs": [],
   "source": []
  }
 ],
 "metadata": {
  "kernelspec": {
   "display_name": "Python [conda env:base] *",
   "language": "python",
   "name": "conda-base-py"
  },
  "language_info": {
   "codemirror_mode": {
    "name": "ipython",
    "version": 3
   },
   "file_extension": ".py",
   "mimetype": "text/x-python",
   "name": "python",
   "nbconvert_exporter": "python",
   "pygments_lexer": "ipython3",
   "version": "3.12.7"
  }
 },
 "nbformat": 4,
 "nbformat_minor": 5
}
